{
 "cells": [
  {
   "cell_type": "markdown",
   "metadata": {},
   "source": [
    "Dictionary\n",
    "\n",
    "# Traversal in a dictionary\n",
    "    print(dict_name)\n",
    "# Inserting and updating of element in dictionary\n",
    "    dict_name[key] = value\n",
    "    * if an element is present in dictionary with specified key then, element gets updated\n",
    "    * if element is not present then, it will get inserted\n",
    "# To remove elements from a dictionary\n",
    "    * dict_name.pop(key)\n",
    "    * del dict_name[key]\n",
    "# Methods of dictionary\n",
    "    * len() - to return total length of the dictionary\n",
    "        len(dict_name)\n",
    "    * keys() - To return a list of keys of dictionary\n",
    "        listname = dict_name.keys()\n",
    "        OR\n",
    "        print(dict_name.keys())\n",
    "    * values() - To return the value of elements in a dictionary\n",
    "        listname = dict_name.values()\n",
    "        OR\n",
    "        print(dict_name.values())\n",
    "    * items() - To return a list of items from dictionary(each item is a tuple which contains key,value of each element )\n",
    "        listVar =  dict_name.items()\n",
    "        OR\n",
    "        print(dict_name.items())\n",
    "    * get() - To return the value of element with specified key\n",
    "        variable = dict_name.get(key)\n",
    "        OR\n",
    "        print(dict_name.get(key))\n",
    "    * update() - To insert / update elements of any other dictionary\n",
    "        dict1_name.update(dict2_name)\n",
    "    * clear() - to clear the entire dictionary\n",
    "        dict_name.clear()"
   ]
  },
  {
   "cell_type": "code",
   "execution_count": 15,
   "metadata": {},
   "outputs": [
    {
     "name": "stdout",
     "output_type": "stream",
     "text": [
      "Student Data :\n",
      "{'stdid': 'std01', 'stdname': 'Ashish', 'maths': 23, 'Age': 12}\n",
      "std01\n",
      "Ashish\n",
      "23\n",
      "12\n"
     ]
    }
   ],
   "source": [
    "# Traversal of dictionary\n",
    "student = {'stdid':'std01','stdname':'Ashish','maths':23,'Age':12}\n",
    "print('Student Data :')\n",
    "print(student)\n",
    "for key in student:\n",
    "    print(student[key])"
   ]
  },
  {
   "cell_type": "code",
   "execution_count": 14,
   "metadata": {},
   "outputs": [
    {
     "name": "stdout",
     "output_type": "stream",
     "text": [
      "{'stdid': 'std01', 'stdname': 'Ashish', 'maths': 90, 'Age': 12, 'English': 89}\n"
     ]
    }
   ],
   "source": [
    "# Insertiion and upsation in dictionary\n",
    "student['maths'] = 90\n",
    "student['English'] = 89\n",
    "print(student)"
   ]
  },
  {
   "cell_type": "code",
   "execution_count": 40,
   "metadata": {},
   "outputs": [
    {
     "name": "stdout",
     "output_type": "stream",
     "text": [
      "{'stdid': 'std01', 'stdname': 'Ashish', 'Age': 12}\n",
      "{'stdid': 'std01', 'stdname': 'Ashish'}\n",
      "{}\n"
     ]
    }
   ],
   "source": [
    "# Deletion of an element in dictionary\n",
    "student = {'stdid':'std01','stdname':'Ashish','maths':23,'Age':12}\n",
    "student.pop('maths')\n",
    "print(student)\n",
    "\n",
    "# to delete the element using del statement\n",
    "del student['Age']\n",
    "print(student)\n"
   ]
  },
  {
   "cell_type": "code",
   "execution_count": 80,
   "metadata": {},
   "outputs": [
    {
     "name": "stdout",
     "output_type": "stream",
     "text": [
      "dict_keys(['stdid', 'stdname', 'maths', 'Age']) \n",
      "\n",
      "stdid\n",
      "stdname\n",
      "maths\n",
      "Age\n",
      "-------------------------------------------------------------\n",
      "dict_values(['std01', 'Ashish', 23, 12])\n",
      "std01\n",
      "Ashish\n",
      "23\n",
      "12\n",
      "\n",
      "\n",
      "Items of dictionary :\n",
      "dict_items([('stdid', 'std01'), ('stdname', 'Ashish'), ('maths', 23), ('Age', 12)])\n",
      "('stdid', 'std01')\n",
      "('stdname', 'Ashish')\n",
      "('maths', 23)\n",
      "('Age', 12)\n",
      "\n",
      "\n",
      "Value of element using get :\n",
      "12\n",
      "Element do not exist\n",
      "\n",
      "\n",
      "After inserting second dictionary:  {'stdid': 'std01', 'stdname': 'Ashish', 'maths': 23, 'Age': 12, 'hindi': 67, 'english': 43, 'science': 89}\n",
      "\n",
      "\n",
      "{}\n"
     ]
    }
   ],
   "source": [
    "# METHODS\n",
    "\n",
    "# The list of keys in dictionary\n",
    "student = {'stdid':'std01','stdname':'Ashish','maths':23,'Age':12}\n",
    "print(student.keys(),\"\\n\")\n",
    "for index in student.keys():\n",
    "    print(index)\n",
    "print(\"-------------------------------------------------------------\")\n",
    "\n",
    "# To print value of elements of a dictionary\n",
    "print(student.values())\n",
    "for value in student.values():\n",
    "    print(value)\n",
    "print(\"\\n\")\n",
    "\n",
    "# to print items of a dictionary\n",
    "print(\"Items of dictionary :\")\n",
    "print(student.items())\n",
    "for item in student.items():\n",
    "    print(item)\n",
    "print(\"\\n\")\n",
    "    \n",
    "# To retrieve value of element\n",
    "print(\"Value of element using get :\")\n",
    "print(student.get('Age'))\n",
    "print(student.get('english','Element do not exist'))\n",
    "print(\"\\n\")\n",
    "\n",
    "# To update the dictionary and insert the other dictionary\n",
    "marks = {'hindi': 67,'english':43,'science': 89}\n",
    "student.update(marks)\n",
    "print(\"After inserting second dictionary: \",student)\n",
    "print(\"\\n\")\n",
    "\n",
    "# To clear the dictionary\n",
    "student.clear()\n",
    "print(student)\n"
   ]
  },
  {
   "cell_type": "markdown",
   "metadata": {},
   "source": [
    "# Assignment"
   ]
  },
  {
   "cell_type": "code",
   "execution_count": 79,
   "metadata": {},
   "outputs": [
    {
     "name": "stdout",
     "output_type": "stream",
     "text": [
      "Student Record: \n",
      "S no.   ID             Name            Age     Maths     English  Hindi    Computer Science\n",
      "1      std101          Ashish kumar    15       87       89       67       90       89      \n",
      "2      std102          Abhishek kumar  14       48       45       85       45       90      \n",
      "3      std103          Aman            15       78       56       23       67       78      \n",
      "4      std104          Rahul           14       45       67       45       56       45      \n",
      "5      std105          Ruby            13       89       67       89       65       93      \n",
      "6      std106          Suamn           13       67       46       90       67       67      \n",
      "7      std107          Saurabh         15       34       23       45       34       45      \n",
      "8      std108          sumit           14       67       45       23       90       78      \n",
      "9      std109          Kamlesh         15       78       56       45       67       99      \n",
      "10     std110          Rohan           15       24       12       34       56       45      \n"
     ]
    }
   ],
   "source": [
    "Student_Record = {}\n",
    "Student_Record['Stdid'] = ['std101','std102','std103','std104','std105','std106','std107','std108','std109','std110']\n",
    "Student_Record['Stdname'] = ['Ashish kumar','Abhishek kumar','Aman','Rahul','Ruby','Suamn','Saurabh','sumit','Kamlesh','Rohan']\n",
    "Student_Record['Age'] = [15,14,15,14,13,13,15,14,15,15]\n",
    "Student_Record['Maths'] = [87,48,78,45,89,67,34,67,78,24]\n",
    "Student_Record['English'] = [89,45,56,67,67,46,23,45,56,12]\n",
    "Student_Record['Hindi'] = [67,85,23,45,89,90,45,23,45,34]\n",
    "Student_Record['Computer'] = [90,45,67,56,65,67,34,90,67,56]\n",
    "Student_Record['Science'] = [89,90,78,45,93,67,45,78,99,45]\n",
    "\n",
    "print(\"Student Record: \")\n",
    "print(\"S no.   ID             Name            Age     Maths     English  Hindi    Computer Science\")\n",
    "for i in range(len(Student_Record['Stdid'])):\n",
    "    print(f\"{i+1:<6} {Student_Record['Stdid'][i]:<15} {Student_Record['Stdname'][i]:<15} {Student_Record['Age'][i]:<8} {Student_Record['Maths'][i]:<8} {Student_Record['English'][i]:<8} {Student_Record['Hindi'][i]:<8} {Student_Record['Computer'][i]:<8} {Student_Record['Science'][i]:<8}\")\n"
   ]
  },
  {
   "cell_type": "code",
   "execution_count": 78,
   "metadata": {},
   "outputs": [
    {
     "name": "stdout",
     "output_type": "stream",
     "text": [
      "\n",
      "Students with more than 50 marks in english:\n",
      "Name            Age\n",
      "Ashish kumar    15\n",
      "Aman            15\n",
      "Rahul           14\n",
      "Ruby            13\n",
      "Kamlesh         15\n"
     ]
    }
   ],
   "source": [
    "# Name and Age of students with more than 50 marks in English\n",
    "\n",
    "print(\"\\nStudents with more than 50 marks in english:\")\n",
    "print(\"Name            Age\")\n",
    "for i in range(len(Student_Record['Stdid'])):\n",
    "    if(Student_Record['English'][i]>50):\n",
    "        print(f\"{Student_Record['Stdname'][i]:<15} {Student_Record['Age'][i]}\")"
   ]
  },
  {
   "cell_type": "code",
   "execution_count": 71,
   "metadata": {},
   "outputs": [
    {
     "name": "stdout",
     "output_type": "stream",
     "text": [
      "\n",
      "Top 4 students with highest marks in maths:\n",
      "S No.  Name            Age\n",
      "1      Ruby            13\n",
      "2      Ashish kumar    15\n",
      "3      Aman            15\n",
      "4      Kamlesh         15\n"
     ]
    }
   ],
   "source": [
    "# Name and Age of Top 4 students with maximum marks in Maths\n",
    "\n",
    "sorted_indices = sorted(range(len(Student_Record['Maths'])), key=lambda i: Student_Record['Maths'][i], reverse=True)\n",
    "print(\"\\nTop 4 students with highest marks in maths:\")\n",
    "print(\"S No.  Name            Age\")\n",
    "for i in range(4):\n",
    "    idx = sorted_indices[i]\n",
    "    print(f\"{i+1:<6} {Student_Record['Stdname'][idx]:<15} {Student_Record['Age'][idx]}\")"
   ]
  },
  {
   "cell_type": "code",
   "execution_count": 75,
   "metadata": {},
   "outputs": [
    {
     "name": "stdout",
     "output_type": "stream",
     "text": [
      "\n",
      "Lowest 3 students with minimum marks in computer:\n",
      "S No.  ID       Name            Age\n",
      "1      std107   Saurabh         15\n",
      "2      std102   Abhishek kumar  14\n",
      "3      std104   Rahul           14\n"
     ]
    }
   ],
   "source": [
    "# srudent_id, Name and Age of Lowest 3 students with minimum marks in Computer\n",
    "\n",
    "sorted_cs = sorted(range(len(Student_Record['Computer'])), key=lambda i: Student_Record['Computer'][i])\n",
    "print(\"\\nLowest 3 students with minimum marks in computer:\")\n",
    "print(\"S No.  ID       Name            Age\")\n",
    "for i in range(3):\n",
    "    idx = sorted_cs[i]\n",
    "    print(f\"{i+1:<6} {Student_Record['Stdid'][idx]:<8} {Student_Record['Stdname'][idx]:<15} {Student_Record['Age'][idx]}\")"
   ]
  }
 ],
 "metadata": {
  "kernelspec": {
   "display_name": "Python 3",
   "language": "python",
   "name": "python3"
  },
  "language_info": {
   "codemirror_mode": {
    "name": "ipython",
    "version": 3
   },
   "file_extension": ".py",
   "mimetype": "text/x-python",
   "name": "python",
   "nbconvert_exporter": "python",
   "pygments_lexer": "ipython3",
   "version": "3.12.4"
  }
 },
 "nbformat": 4,
 "nbformat_minor": 2
}
