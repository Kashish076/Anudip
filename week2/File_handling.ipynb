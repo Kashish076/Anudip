{
 "cells": [
  {
   "cell_type": "markdown",
   "metadata": {},
   "source": [
    "### File Handling"
   ]
  },
  {
   "cell_type": "code",
   "execution_count": 1,
   "metadata": {},
   "outputs": [
    {
     "name": "stdout",
     "output_type": "stream",
     "text": [
      "Written into file successfully...\n"
     ]
    }
   ],
   "source": [
    "file = open(\"First file.txt\",'w')\n",
    "file.write(\"Hello World...\")\n",
    "print(\"Written into file successfully...\")\n",
    "file.close()\n"
   ]
  },
  {
   "cell_type": "markdown",
   "metadata": {},
   "source": [
    "### With Open "
   ]
  },
  {
   "cell_type": "code",
   "execution_count": 2,
   "metadata": {},
   "outputs": [
    {
     "name": "stdout",
     "output_type": "stream",
     "text": [
      "Hello World...Welcome to python class\n"
     ]
    }
   ],
   "source": [
    "with open (\"First file.txt\",'a') as file:\n",
    "    file.write(\"Welcome to python class\")\n",
    "    \n",
    "with open (\"First file.txt\",'r') as file:\n",
    "    read = file.read()\n",
    "print(read)\n"
   ]
  },
  {
   "cell_type": "markdown",
   "metadata": {},
   "source": [
    "### tell() and seek()"
   ]
  },
  {
   "cell_type": "code",
   "execution_count": 3,
   "metadata": {},
   "outputs": [
    {
     "name": "stdout",
     "output_type": "stream",
     "text": [
      "0\n",
      "14\n",
      "o World...\n"
     ]
    }
   ],
   "source": [
    "with open (\"First file.txt\",'r') as file:\n",
    "    print(file.tell())\n",
    "    file.seek(4)\n",
    "    data = file.read(10)\n",
    "    print(file.tell())\n",
    "    print(data)\n",
    "    "
   ]
  },
  {
   "cell_type": "code",
   "execution_count": 4,
   "metadata": {},
   "outputs": [
    {
     "name": "stdout",
     "output_type": "stream",
     "text": [
      "Hello World...Welcome to python class\n",
      "Search for'hello' completed\n"
     ]
    }
   ],
   "source": [
    "search = input(\"enter the text which you want to search : \")\n",
    "with open(\"First file.txt\",'r') as file:\n",
    "    for line in file:\n",
    "        if search.lower() in line.lower():\n",
    "            print(line.strip())\n",
    "print(f\"Search for'{search}' completed\")"
   ]
  },
  {
   "cell_type": "markdown",
   "metadata": {},
   "source": [
    "### pickel method"
   ]
  },
  {
   "cell_type": "code",
   "execution_count": 5,
   "metadata": {},
   "outputs": [
    {
     "name": "stdout",
     "output_type": "stream",
     "text": [
      "done\n",
      "[20, 30, 40, 50, 60]\n"
     ]
    }
   ],
   "source": [
    "import pickle\n",
    "file = open(\"file.dat\",'ab')\n",
    "li = [20,30,40,50,60]\n",
    "pickle.dump(li,file)\n",
    "print(\"done\")\n",
    "\n",
    "file = open(\"file.dat\",'rb')\n",
    "data = pickle.load(file)\n",
    "print(data)\n",
    "file.close()"
   ]
  }
 ],
 "metadata": {
  "kernelspec": {
   "display_name": "Python 3",
   "language": "python",
   "name": "python3"
  },
  "language_info": {
   "codemirror_mode": {
    "name": "ipython",
    "version": 3
   },
   "file_extension": ".py",
   "mimetype": "text/x-python",
   "name": "python",
   "nbconvert_exporter": "python",
   "pygments_lexer": "ipython3",
   "version": "3.12.4"
  }
 },
 "nbformat": 4,
 "nbformat_minor": 2
}
