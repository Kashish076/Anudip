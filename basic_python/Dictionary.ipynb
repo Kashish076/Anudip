{
 "cells": [
  {
   "cell_type": "markdown",
   "metadata": {},
   "source": [
    "Dictionary"
   ]
  },
  {
   "cell_type": "code",
   "execution_count": 1,
   "metadata": {},
   "outputs": [
    {
     "name": "stdout",
     "output_type": "stream",
     "text": [
      "Student Data :\n",
      "{'stdid': 'std01', 'stdname': 'Ashish', 'maths': 23, 'Age': 12}\n",
      "std01\n",
      "Ashish\n",
      "23\n",
      "12\n"
     ]
    }
   ],
   "source": [
    "# Traversal of dictionary\n",
    "student = {'stdid':'std01','stdname':'Ashish','maths':23,'Age':12}\n",
    "print('Student Data :')\n",
    "print(student)\n",
    "for key in student:\n",
    "    print(student[key])"
   ]
  },
  {
   "cell_type": "code",
   "execution_count": 2,
   "metadata": {},
   "outputs": [
    {
     "name": "stdout",
     "output_type": "stream",
     "text": [
      "{'stdid': 'std01', 'stdname': 'Ashish', 'maths': 90, 'Age': 12, 'English': 89}\n"
     ]
    }
   ],
   "source": [
    "# Insertiion and upsation in dictionary\n",
    "student['maths'] = 90\n",
    "student['English'] = 89\n",
    "print(student)"
   ]
  },
  {
   "cell_type": "code",
   "execution_count": 3,
   "metadata": {},
   "outputs": [
    {
     "name": "stdout",
     "output_type": "stream",
     "text": [
      "{'stdid': 'std01', 'stdname': 'Ashish', 'Age': 12}\n",
      "{'stdid': 'std01', 'stdname': 'Ashish'}\n"
     ]
    }
   ],
   "source": [
    "# Deletion of an element in dictionary\n",
    "student = {'stdid':'std01','stdname':'Ashish','maths':23,'Age':12}\n",
    "student.pop('maths')\n",
    "print(student)\n",
    "\n",
    "# to delete the element using del statement\n",
    "del student['Age']\n",
    "print(student)\n"
   ]
  },
  {
   "cell_type": "code",
   "execution_count": 4,
   "metadata": {},
   "outputs": [
    {
     "name": "stdout",
     "output_type": "stream",
     "text": [
      "dict_keys(['stdid', 'stdname', 'maths', 'Age']) \n",
      "\n",
      "stdid\n",
      "stdname\n",
      "maths\n",
      "Age\n",
      "-------------------------------------------------------------\n",
      "dict_values(['std01', 'Ashish', 23, 12])\n",
      "std01\n",
      "Ashish\n",
      "23\n",
      "12\n",
      "\n",
      "\n",
      "Items of dictionary :\n",
      "dict_items([('stdid', 'std01'), ('stdname', 'Ashish'), ('maths', 23), ('Age', 12)])\n",
      "('stdid', 'std01')\n",
      "('stdname', 'Ashish')\n",
      "('maths', 23)\n",
      "('Age', 12)\n",
      "\n",
      "\n",
      "Value of element using get :\n",
      "12\n",
      "Element do not exist\n",
      "\n",
      "\n",
      "After inserting second dictionary:  {'stdid': 'std01', 'stdname': 'Ashish', 'maths': 23, 'Age': 12, 'hindi': 67, 'english': 43, 'science': 89}\n",
      "\n",
      "\n",
      "{}\n"
     ]
    }
   ],
   "source": [
    "# METHODS\n",
    "\n",
    "# The list of keys in dictionary\n",
    "student = {'stdid':'std01','stdname':'Ashish','maths':23,'Age':12}\n",
    "print(student.keys(),\"\\n\")\n",
    "for index in student.keys():\n",
    "    print(index)\n",
    "print(\"-------------------------------------------------------------\")\n",
    "\n",
    "# To print value of elements of a dictionary\n",
    "print(student.values())\n",
    "for value in student.values():\n",
    "    print(value)\n",
    "print(\"\\n\")\n",
    "\n",
    "# to print items of a dictionary\n",
    "print(\"Items of dictionary :\")\n",
    "print(student.items())\n",
    "for item in student.items():\n",
    "    print(item)\n",
    "print(\"\\n\")\n",
    "    \n",
    "# To retrieve value of element\n",
    "print(\"Value of element using get :\")\n",
    "print(student.get('Age'))\n",
    "print(student.get('english','Element do not exist'))\n",
    "print(\"\\n\")\n",
    "\n",
    "# To update the dictionary and insert the other dictionary\n",
    "marks = {'hindi': 67,'english':43,'science': 89}\n",
    "student.update(marks)\n",
    "print(\"After inserting second dictionary: \",student)\n",
    "print(\"\\n\")\n",
    "\n",
    "# To clear the dictionary\n",
    "student.clear()\n",
    "print(student)\n"
   ]
  }
 ],
 "metadata": {
  "kernelspec": {
   "display_name": "Python 3",
   "language": "python",
   "name": "python3"
  },
  "language_info": {
   "codemirror_mode": {
    "name": "ipython",
    "version": 3
   },
   "file_extension": ".py",
   "mimetype": "text/x-python",
   "name": "python",
   "nbconvert_exporter": "python",
   "pygments_lexer": "ipython3",
   "version": "3.12.4"
  }
 },
 "nbformat": 4,
 "nbformat_minor": 2
}
