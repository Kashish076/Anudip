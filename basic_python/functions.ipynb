{
 "cells": [
  {
   "cell_type": "markdown",
   "metadata": {},
   "source": [
    "# String"
   ]
  },
  {
   "cell_type": "code",
   "execution_count": 1,
   "metadata": {},
   "outputs": [
    {
     "name": "stdout",
     "output_type": "stream",
     "text": [
      "x id is :  2235071170432\n",
      "y id is :  2235070858816\n",
      "z id is :  2235071170432\n",
      "(10, 20, 30, 40) \n",
      " id of a is :  2235071086192\n",
      "(20, 50, 46, 54) \n",
      " id of a is :  2235071086112\n",
      "id of a is :  2235071086112\n",
      "id of a is :  2235071086112\n"
     ]
    }
   ],
   "source": [
    "#Use of id() Function\n",
    "\n",
    "x = [\"apple\",\"banana\"]\n",
    "y = [\"apple\",\"banana\"]\n",
    "\n",
    "z = x\n",
    "print(\"x id is : \",id(x))\n",
    "print(\"y id is : \",id(y))\n",
    "print(\"z id is : \",id(z))\n",
    "\n",
    "# In tuple\n",
    "a = 10,20,30,40\n",
    "print(a,\"\\n id of a is : \",id(a))\n",
    "a = 20,50,46,54\n",
    "print(a,\"\\n id of a is : \",id(a))\n",
    "\n",
    "# In string\n",
    "name = \"Tanya\"\n",
    "print(\"id of a is : \",id(a))\n",
    "name +\"Tiwari\"\n",
    "print(\"id of a is : \",id(a))"
   ]
  },
  {
   "cell_type": "markdown",
   "metadata": {},
   "source": [
    "### del statement"
   ]
  },
  {
   "cell_type": "code",
   "execution_count": 2,
   "metadata": {},
   "outputs": [
    {
     "name": "stdout",
     "output_type": "stream",
     "text": [
      "a\n",
      "Tanya\n"
     ]
    }
   ],
   "source": [
    "# del in string\n",
    "\n",
    "name = \"Tanya\"\n",
    "print(name[1])\n",
    "print(name)\n",
    "del name"
   ]
  },
  {
   "cell_type": "markdown",
   "metadata": {},
   "source": [
    "### Slicing"
   ]
  },
  {
   "cell_type": "code",
   "execution_count": 3,
   "metadata": {},
   "outputs": [
    {
     "name": "stdout",
     "output_type": "stream",
     "text": [
      "I am java Trainer\n",
      "State[2:4], am\n",
      "State[5:9], java\n",
      "State[:15], I am java Train\n",
      "State[2:], am java Trainer\n",
      "State[:], I am java Trainer\n",
      "State[0:17:3], Ima ae\n",
      "State[::], I am java Trainer\n",
      "State[::-1], reniarT avaj ma I\n"
     ]
    }
   ],
   "source": [
    "# Slicing in string\n",
    "\n",
    "State = \"I am java Trainer\"\n",
    "print(State)\n",
    "print(\"State[2:4],\",State[2:4])\n",
    "print(\"State[5:9],\",State[5:9])\n",
    "print(\"State[:15],\",State[:15])\n",
    "print(\"State[2:],\",State[2:])\n",
    "print(\"State[:],\",State[:])\n",
    "print(\"State[0:17:3],\",State[0:17:3])\n",
    "print(\"State[::],\",State[::])\n",
    "print(\"State[::-1],\",State[::-1])"
   ]
  },
  {
   "cell_type": "markdown",
   "metadata": {},
   "source": [
    "### String capitalize() Method"
   ]
  },
  {
   "cell_type": "code",
   "execution_count": 4,
   "metadata": {},
   "outputs": [
    {
     "name": "stdout",
     "output_type": "stream",
     "text": [
      "tanya awana\n",
      "Tanya awana\n",
      "Tanya Awana\n"
     ]
    }
   ],
   "source": [
    "# Capitalize Method\n",
    "\n",
    "str = \"tanya awana\"\n",
    "print(str)\n",
    "str = str.capitalize()\n",
    "print(str)\n",
    "\n",
    "str = str.title()\n",
    "print(str)"
   ]
  },
  {
   "cell_type": "markdown",
   "metadata": {},
   "source": [
    "### String center() method"
   ]
  },
  {
   "cell_type": "code",
   "execution_count": 5,
   "metadata": {},
   "outputs": [
    {
     "name": "stdout",
     "output_type": "stream",
     "text": [
      "Old String :  Hello\n",
      "New String :  *****Hello*****\n"
     ]
    }
   ],
   "source": [
    "# Center Method\n",
    "\n",
    "Str1 = \"Hello\"\n",
    "Str2 = Str1.center(15,\"*\")\n",
    "print(\"Old String : \",Str1)\n",
    "print(\"New String : \",Str2)"
   ]
  },
  {
   "cell_type": "markdown",
   "metadata": {},
   "source": [
    "### String count() method"
   ]
  },
  {
   "cell_type": "code",
   "execution_count": 6,
   "metadata": {},
   "outputs": [
    {
     "name": "stdout",
     "output_type": "stream",
     "text": [
      "Occurences :  2\n"
     ]
    }
   ],
   "source": [
    "str = \"sb bc cs de ed ad bc ca\"\n",
    "oc = str.count('b',1,8)\n",
    "print(\"Occurences : \",oc)"
   ]
  },
  {
   "cell_type": "markdown",
   "metadata": {},
   "source": [
    "### String endswith() method"
   ]
  },
  {
   "cell_type": "code",
   "execution_count": 7,
   "metadata": {},
   "outputs": [
    {
     "name": "stdout",
     "output_type": "stream",
     "text": [
      "True\n",
      "False\n"
     ]
    }
   ],
   "source": [
    "str = \"Hello this is a python class\"\n",
    "isends = str.endswith(\"lass\")\n",
    "print(isends)\n",
    "isends2 = str.endswith(\"is\",0,7)\n",
    "print(isends2)"
   ]
  },
  {
   "cell_type": "markdown",
   "metadata": {},
   "source": [
    "### String startswith() function"
   ]
  },
  {
   "cell_type": "code",
   "execution_count": 8,
   "metadata": {},
   "outputs": [
    {
     "name": "stdout",
     "output_type": "stream",
     "text": [
      "True\n"
     ]
    }
   ],
   "source": [
    "str = \"Hello this is a python class\"\n",
    "starts = str.startswith(\"\")\n",
    "print(starts)"
   ]
  },
  {
   "cell_type": "markdown",
   "metadata": {},
   "source": [
    "### String find() function"
   ]
  },
  {
   "cell_type": "code",
   "execution_count": 9,
   "metadata": {},
   "outputs": [
    {
     "name": "stdout",
     "output_type": "stream",
     "text": [
      "t is present at :  8\n",
      "c is present at :  22\n",
      "-1\n"
     ]
    }
   ],
   "source": [
    "str = \"Welcome to the python class\"\n",
    "str2 = str.find(\"t\")\n",
    "str3 = str.find(\"c\",20,25)\n",
    "print(\"t is present at : \",str2)\n",
    "print(\"c is present at : \",str3)\n",
    "str4 = str.find(\"tee\")\n",
    "print(str4)"
   ]
  },
  {
   "cell_type": "markdown",
   "metadata": {},
   "source": [
    "### String index() method"
   ]
  },
  {
   "cell_type": "code",
   "execution_count": 10,
   "metadata": {},
   "outputs": [
    {
     "name": "stdout",
     "output_type": "stream",
     "text": [
      "11\n"
     ]
    },
    {
     "ename": "ValueError",
     "evalue": "substring not found",
     "output_type": "error",
     "traceback": [
      "\u001b[1;31m---------------------------------------------------------------------------\u001b[0m",
      "\u001b[1;31mValueError\u001b[0m                                Traceback (most recent call last)",
      "Cell \u001b[1;32mIn[10], line 4\u001b[0m\n\u001b[0;32m      2\u001b[0m str1 \u001b[38;5;241m=\u001b[39m \u001b[38;5;28mstr\u001b[39m\u001b[38;5;241m.\u001b[39mindex(\u001b[38;5;124m\"\u001b[39m\u001b[38;5;124mth\u001b[39m\u001b[38;5;124m\"\u001b[39m,\u001b[38;5;241m2\u001b[39m,\u001b[38;5;241m20\u001b[39m)\n\u001b[0;32m      3\u001b[0m \u001b[38;5;28mprint\u001b[39m(str1)\n\u001b[1;32m----> 4\u001b[0m str2 \u001b[38;5;241m=\u001b[39m \u001b[38;5;28;43mstr\u001b[39;49m\u001b[38;5;241;43m.\u001b[39;49m\u001b[43mindex\u001b[49m\u001b[43m(\u001b[49m\u001b[38;5;124;43m\"\u001b[39;49m\u001b[38;5;124;43mth\u001b[39;49m\u001b[38;5;124;43m\"\u001b[39;49m\u001b[43m,\u001b[49m\u001b[38;5;241;43m19\u001b[39;49m\u001b[43m,\u001b[49m\u001b[38;5;241;43m21\u001b[39;49m\u001b[43m)\u001b[49m\n\u001b[0;32m      5\u001b[0m \u001b[38;5;28mprint\u001b[39m(str2)\n",
      "\u001b[1;31mValueError\u001b[0m: substring not found"
     ]
    }
   ],
   "source": [
    "str = \"Welcome to the python class\"\n",
    "str1 = str.index(\"th\",2,20)\n",
    "print(str1)\n",
    "str2 = str.index(\"th\",19,21)\n",
    "print(str2)"
   ]
  },
  {
   "cell_type": "markdown",
   "metadata": {},
   "source": [
    "### String alnum() function"
   ]
  },
  {
   "cell_type": "code",
   "execution_count": null,
   "metadata": {},
   "outputs": [
    {
     "name": "stdout",
     "output_type": "stream",
     "text": [
      "True\n",
      "False\n"
     ]
    }
   ],
   "source": [
    "str = \"1234\"\n",
    "str1 = \"Welcome 123\"\n",
    "str2 = str.isalnum()\n",
    "str3 = str1.isalnum()\n",
    "print(str2)\n",
    "print(str3)"
   ]
  },
  {
   "cell_type": "markdown",
   "metadata": {},
   "source": [
    "### String isalpha() function"
   ]
  },
  {
   "cell_type": "code",
   "execution_count": null,
   "metadata": {},
   "outputs": [
    {
     "name": "stdout",
     "output_type": "stream",
     "text": [
      "False\n",
      "True\n"
     ]
    }
   ],
   "source": [
    "str = \"py8thon\"\n",
    "str1 = str.isalpha()\n",
    "str2 = \"python\"\n",
    "str3 = str2.isalpha()\n",
    "print(str1)\n",
    "print(str3)"
   ]
  },
  {
   "cell_type": "markdown",
   "metadata": {},
   "source": [
    "### String isnumeric() function"
   ]
  },
  {
   "cell_type": "code",
   "execution_count": null,
   "metadata": {},
   "outputs": [
    {
     "name": "stdout",
     "output_type": "stream",
     "text": [
      "True\n",
      "False\n"
     ]
    }
   ],
   "source": [
    "str = \"1234\"\n",
    "str1 = str.isnumeric()\n",
    "str2 = \"python\"\n",
    "str3 = str2.isnumeric()\n",
    "print(str1)\n",
    "print(str3)"
   ]
  },
  {
   "cell_type": "markdown",
   "metadata": {},
   "source": [
    "### String islower() function"
   ]
  },
  {
   "cell_type": "code",
   "execution_count": null,
   "metadata": {},
   "outputs": [
    {
     "name": "stdout",
     "output_type": "stream",
     "text": [
      "True\n"
     ]
    }
   ],
   "source": [
    "str = \"hi\"\n",
    "str1 = str.islower()\n",
    "print(str1)"
   ]
  },
  {
   "cell_type": "markdown",
   "metadata": {},
   "source": [
    "### String isupper()"
   ]
  },
  {
   "cell_type": "code",
   "execution_count": null,
   "metadata": {},
   "outputs": [
    {
     "name": "stdout",
     "output_type": "stream",
     "text": [
      "True\n"
     ]
    }
   ],
   "source": [
    "str = \"HI\"\n",
    "str1 = str.isupper()\n",
    "print(str1)"
   ]
  },
  {
   "cell_type": "markdown",
   "metadata": {},
   "source": [
    "### String conversion - lower to upper"
   ]
  },
  {
   "cell_type": "code",
   "execution_count": null,
   "metadata": {},
   "outputs": [
    {
     "name": "stdout",
     "output_type": "stream",
     "text": [
      "anant\n",
      "ANANT\n"
     ]
    }
   ],
   "source": [
    "str = \"anant\"\n",
    "str.upper()\n",
    "print(str)\n",
    "str1 = str.upper()\n",
    "print(str1)"
   ]
  },
  {
   "cell_type": "markdown",
   "metadata": {},
   "source": [
    "### String conversion - upper to lower"
   ]
  },
  {
   "cell_type": "code",
   "execution_count": null,
   "metadata": {},
   "outputs": [
    {
     "name": "stdout",
     "output_type": "stream",
     "text": [
      "VARSHA\n",
      "varsha\n"
     ]
    }
   ],
   "source": [
    "str = \"VARSHA\"\n",
    "str.lower()\n",
    "print(str)\n",
    "str1 = str.lower()\n",
    "print(str1)"
   ]
  },
  {
   "cell_type": "markdown",
   "metadata": {},
   "source": [
    "### String lstrip() and rstrip() function"
   ]
  },
  {
   "cell_type": "code",
   "execution_count": null,
   "metadata": {},
   "outputs": [
    {
     "name": "stdout",
     "output_type": "stream",
     "text": [
      " python \n",
      "python \n",
      ".....python\n"
     ]
    }
   ],
   "source": [
    "str = \" python \"\n",
    "str1 = \".....python.....\"\n",
    "str2 = str.lstrip()\n",
    "str3 = str1.rstrip(\".\")\n",
    "print(str)\n",
    "print(str2)\n",
    "print(str3)"
   ]
  },
  {
   "cell_type": "markdown",
   "metadata": {},
   "source": [
    "### String replace() function"
   ]
  },
  {
   "cell_type": "code",
   "execution_count": null,
   "metadata": {},
   "outputs": [
    {
     "name": "stdout",
     "output_type": "stream",
     "text": [
      "c is a programming language\n"
     ]
    }
   ],
   "source": [
    "str = \"Java is a programming language\"\n",
    "str1 = str.replace(\"Java\",\"c\")\n",
    "print(str1)"
   ]
  },
  {
   "cell_type": "markdown",
   "metadata": {},
   "source": [
    "### Asignment"
   ]
  },
  {
   "cell_type": "code",
   "execution_count": null,
   "metadata": {},
   "outputs": [
    {
     "name": "stdout",
     "output_type": "stream",
     "text": [
      "Count of alphabets:  21\n",
      "Count of numbers:  2\n",
      "Count of special characters :  9\n"
     ]
    }
   ],
   "source": [
    "Str = \"python use 20s of functions .#@*\"\n",
    "num = 0\n",
    "alpha = 0\n",
    "special = 0\n",
    "sum = 0\n",
    "for i in range(len(Str)):\n",
    "    if(Str[i].isalpha()):\n",
    "        alpha += 1\n",
    "    elif(Str[i].isnumeric()):\n",
    "        num += 1\n",
    "    else:\n",
    "        special += 1\n",
    "print(\"Count of alphabets: \",alpha)\n",
    "print(\"Count of numbers: \",num)\n",
    "print(\"Count of special characters : \",special)"
   ]
  },
  {
   "cell_type": "code",
   "execution_count": null,
   "metadata": {},
   "outputs": [
    {
     "name": "stdout",
     "output_type": "stream",
     "text": [
      "Count of alphabets:  21\n",
      "Count of numbers:  2\n",
      "Count of special characters :  9\n"
     ]
    }
   ],
   "source": [
    "def String_check(str):\n",
    "    special = 0\n",
    "    alpha = 0\n",
    "    num = 0\n",
    "    for i in range(len(Str)):\n",
    "        if(Str[i].isalpha()):\n",
    "            alpha += 1\n",
    "        elif(Str[i].isnumeric()):\n",
    "            num += 1\n",
    "        else:\n",
    "            special += 1\n",
    "    return alpha,num,special\n",
    "\n",
    "alpha,num,special = String_check(\"python use 20s of functions .#@*\")\n",
    "print(\"Count of alphabets: \",alpha)\n",
    "print(\"Count of numbers: \",num)\n",
    "print(\"Count of special characters : \",special)\n",
    "     "
   ]
  }
 ],
 "metadata": {
  "kernelspec": {
   "display_name": "Python 3",
   "language": "python",
   "name": "python3"
  },
  "language_info": {
   "codemirror_mode": {
    "name": "ipython",
    "version": 3
   },
   "file_extension": ".py",
   "mimetype": "text/x-python",
   "name": "python",
   "nbconvert_exporter": "python",
   "pygments_lexer": "ipython3",
   "version": "3.12.4"
  }
 },
 "nbformat": 4,
 "nbformat_minor": 2
}
