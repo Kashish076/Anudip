{
 "cells": [
  {
   "cell_type": "markdown",
   "metadata": {},
   "source": [
    "# **Exception handling**"
   ]
  },
  {
   "cell_type": "markdown",
   "metadata": {},
   "source": [
    "### **try-except**"
   ]
  },
  {
   "cell_type": "code",
   "execution_count": 32,
   "metadata": {},
   "outputs": [
    {
     "name": "stdout",
     "output_type": "stream",
     "text": [
      "division by zero\n"
     ]
    }
   ],
   "source": [
    "try :\n",
    "    print(100/0)\n",
    "    open(\"ABC.txt\")\n",
    "except ZeroDivisionError as e:\n",
    "    print(e)"
   ]
  },
  {
   "cell_type": "markdown",
   "metadata": {},
   "source": [
    "### **try with multiple except**"
   ]
  },
  {
   "cell_type": "code",
   "execution_count": 33,
   "metadata": {},
   "outputs": [
    {
     "name": "stdout",
     "output_type": "stream",
     "text": [
      "20.0\n",
      "File does not exist\n"
     ]
    }
   ],
   "source": [
    "try :\n",
    "    print(100/5)\n",
    "    open(\"xyz.txt\")\n",
    "except ZeroDivisionError as e:\n",
    "    print(e)\n",
    "except FileNotFoundError:\n",
    "    print(\"File does not exist\")"
   ]
  },
  {
   "cell_type": "code",
   "execution_count": 34,
   "metadata": {},
   "outputs": [
    {
     "name": "stdout",
     "output_type": "stream",
     "text": [
      "16.666666666666668\n",
      "Something went wrong\n"
     ]
    }
   ],
   "source": [
    "try:\n",
    "    print(50/3)\n",
    "    print(name)\n",
    "except:\n",
    "    print(\"Something went wrong\")"
   ]
  },
  {
   "cell_type": "markdown",
   "metadata": {},
   "source": [
    "### **else and finally block**<hr/>\n",
    "\n",
    "**else** : It is executed when no error exist in code.\n",
    "**finally** : It is used to release the external resources."
   ]
  },
  {
   "cell_type": "code",
   "execution_count": 35,
   "metadata": {},
   "outputs": [
    {
     "name": "stdout",
     "output_type": "stream",
     "text": [
      "16.666666666666668\n",
      "Something went wrong\n",
      "finally block\n"
     ]
    }
   ],
   "source": [
    "try:\n",
    "    print(50/3)\n",
    "    print(6/0)\n",
    "except:\n",
    "    print(\"Something went wrong\")\n",
    "else:\n",
    "    print(\"No Exception has occured\")\n",
    "finally:\n",
    "    print(\"finally block\")"
   ]
  },
  {
   "cell_type": "markdown",
   "metadata": {},
   "source": [
    "### **Raising Exception**<hr/>\n",
    "    \n",
    "An exception can be raised forcefully by using the raise clase in Python. It is useful in that scenario wherewe need to raise an exception to stop the execution of the program."
   ]
  },
  {
   "cell_type": "code",
   "execution_count": 36,
   "metadata": {},
   "outputs": [
    {
     "name": "stdout",
     "output_type": "stream",
     "text": [
      "Your age is less than 18\n"
     ]
    }
   ],
   "source": [
    "def checkAge(age):\n",
    "    if age>=18:\n",
    "        print(\"You are eligible to vote\")\n",
    "    else:\n",
    "        raise ValueError(\"Your age is less than 18\")\n",
    "try:\n",
    "    checkAge(17)\n",
    "except ValueError as e:\n",
    "    print(e)"
   ]
  }
 ],
 "metadata": {
  "kernelspec": {
   "display_name": "Python 3",
   "language": "python",
   "name": "python3"
  },
  "language_info": {
   "codemirror_mode": {
    "name": "ipython",
    "version": 3
   },
   "file_extension": ".py",
   "mimetype": "text/x-python",
   "name": "python",
   "nbconvert_exporter": "python",
   "pygments_lexer": "ipython3",
   "version": "3.12.4"
  }
 },
 "nbformat": 4,
 "nbformat_minor": 2
}
