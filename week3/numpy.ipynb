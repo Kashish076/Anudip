{
 "cells": [
  {
   "cell_type": "markdown",
   "metadata": {},
   "source": [
    "## **Numpy**<hr/>\n",
    "\n",
    "NumPy, which stands for **\"Numerical Python,\"** is a popular Python library for numerical and scientific computing. It provides support for working with large, multi-dimensional arrays and matrices of data, along with a collection of mathematical functions to operate on these arrays.\n",
    "\n",
    "NumPy is a fundamental library for data manipulation and analysis in Python and is widely used in various fields such as data science, machine learning, scientific research, and engineering."
   ]
  },
  {
   "cell_type": "markdown",
   "metadata": {},
   "source": [
    "### **ndim**<hr/>\n",
    "\n",
    "it is used to get the dimension of the array"
   ]
  },
  {
   "cell_type": "code",
   "execution_count": 13,
   "metadata": {},
   "outputs": [
    {
     "name": "stdout",
     "output_type": "stream",
     "text": [
      "0\n",
      "1\n",
      "2\n",
      "42\n",
      "[1 2 3 4 5]\n",
      "[[1 2 3]\n",
      " [4 5 6]]\n"
     ]
    }
   ],
   "source": [
    "import numpy as ny\n",
    "\n",
    "a = ny.array(42)\n",
    "b = ny.array([1,2,3,4,5])\n",
    "c = ny.array([[1,2,3],[4,5,6]])\n",
    "\n",
    "print(a.ndim)\n",
    "print(b.ndim)\n",
    "print(c.ndim)\n",
    "\n",
    "print(a)\n",
    "print(b)\n",
    "print(c)\n"
   ]
  },
  {
   "cell_type": "markdown",
   "metadata": {},
   "source": [
    "### **shape**<hr/>\n",
    "\n",
    "It is used to provide the dimensions of the array"
   ]
  },
  {
   "cell_type": "code",
   "execution_count": 14,
   "metadata": {},
   "outputs": [
    {
     "name": "stdout",
     "output_type": "stream",
     "text": [
      "()\n",
      "(5,)\n",
      "(2, 3)\n",
      "(2, 2, 3)\n"
     ]
    }
   ],
   "source": [
    "import numpy as ny\n",
    "\n",
    "a = ny.array(42)\n",
    "b = ny.array([1,2,3,4,5])\n",
    "c = ny.array([[1,2,3],[4,5,6]])\n",
    "d = ny.array([[[1,2,3],[4,5,6]],[[7,8,9],[10,11,12]]])\n",
    "\n",
    "print(a.shape)\n",
    "print(b.shape)\n",
    "print(c.shape)\n",
    "print(d.shape)\n"
   ]
  },
  {
   "cell_type": "code",
   "execution_count": 54,
   "metadata": {},
   "outputs": [
    {
     "name": "stdout",
     "output_type": "stream",
     "text": [
      "[1 0 1]\n"
     ]
    }
   ],
   "source": [
    "import numpy as np\n",
    "\n",
    "arr = np.array([True,False,True],dtype = np.int32)\n",
    "print(arr)"
   ]
  },
  {
   "cell_type": "code",
   "execution_count": 49,
   "metadata": {},
   "outputs": [
    {
     "name": "stdout",
     "output_type": "stream",
     "text": [
      "[ True  True  True]\n"
     ]
    }
   ],
   "source": [
    "import numpy as np\n",
    "\n",
    "arr = np.array(['apple',1,2.3],dtype = np.bool_)\n",
    "print(arr)"
   ]
  },
  {
   "cell_type": "markdown",
   "metadata": {},
   "source": [
    "### **copy and view**"
   ]
  },
  {
   "cell_type": "code",
   "execution_count": 12,
   "metadata": {},
   "outputs": [
    {
     "name": "stdout",
     "output_type": "stream",
     "text": [
      "Output using copy():  [10 20 30 40 50 60]\n",
      "Output using view():  [ 10  20  30 600  50  60]\n"
     ]
    }
   ],
   "source": [
    "import numpy as np\n",
    "arr = np.array([10,20,30,40,50,60])\n",
    "arr2 = arr[1:4].copy()\n",
    "arr3 = arr[2:5].view()\n",
    "arr2[1] = 100\n",
    "print(\"Output using copy(): \",arr)\n",
    "arr3[1] = 600\n",
    "print(\"Output using view(): \",arr)"
   ]
  },
  {
   "cell_type": "code",
   "execution_count": 52,
   "metadata": {},
   "outputs": [
    {
     "name": "stdout",
     "output_type": "stream",
     "text": [
      "[[9 9 9]\n",
      " [9 9 9]\n",
      " [9 9 9]\n",
      " [9 9 9]\n",
      " [9 9 9]] \n",
      "\n",
      " [[10 10 10]\n",
      " [10 10 10]\n",
      " [10 10 10]\n",
      " [10 10 10]\n",
      " [10 10 10]] \n",
      "\n",
      " [[1. 0. 0.]\n",
      " [0. 1. 0.]\n",
      " [0. 0. 1.]] \n",
      "\n",
      " [[ 7  0  0  0  0]\n",
      " [ 0 10  0  0  0]\n",
      " [ 0  0 12  0  0]\n",
      " [ 0  0  0 34  0]\n",
      " [ 0  0  0  0 56]] \n",
      "\n",
      " [3 8 4 6 3 3 2 4] \n",
      "\n",
      " [[0.33144443 0.23143554 0.61205716]\n",
      " [0.75442009 0.27486297 0.58395138]]\n"
     ]
    }
   ],
   "source": [
    "import numpy as np\n",
    "\n",
    "arr1 = np.zeros((5,3),dtype=np.int8)+9\n",
    "arr2 = np.ones((5,3),dtype=np.int8)+9\n",
    "arr3 = np.eye(3)\n",
    "arr4 = np.diag((7,10,12,34,56))\n",
    "rno = np.random.randint(0,10,8)\n",
    "r = np.random.rand(2,3)\n",
    "\n",
    "print(arr1,\"\\n\\n\",arr2,\"\\n\\n\",arr3,\"\\n\\n\",arr4,\"\\n\\n\",rno,\"\\n\\n\",r)"
   ]
  },
  {
   "cell_type": "markdown",
   "metadata": {},
   "source": [
    "### **reshape()**"
   ]
  },
  {
   "cell_type": "code",
   "execution_count": 62,
   "metadata": {},
   "outputs": [
    {
     "name": "stdout",
     "output_type": "stream",
     "text": [
      "Array 1 :  [[10 20 30]\n",
      " [40 50 60]] \n",
      "\n",
      "Array 2 :  [[[10 20]]\n",
      "\n",
      " [[30 40]]\n",
      "\n",
      " [[50 60]]] \n",
      "\n",
      "Array 3 :  [[10 20 30]\n",
      " [40 50 60]]\n"
     ]
    }
   ],
   "source": [
    "import numpy as np\n",
    "\n",
    "arr = np.array([10,20,30,40,50,60])\n",
    "arr1 = arr.reshape(2,3)\n",
    "arr2 = arr.reshape(-1,1,2)\n",
    "arr3 = arr.reshape(2,-1)\n",
    "\n",
    "print(\"Array 1 : \",arr1,\"\\n\\nArray 2 : \",arr2,\"\\n\\nArray 3 : \",arr3)"
   ]
  },
  {
   "cell_type": "markdown",
   "metadata": {},
   "source": [
    "### **random.seed()**"
   ]
  },
  {
   "cell_type": "code",
   "execution_count": 87,
   "metadata": {},
   "outputs": [
    {
     "name": "stdout",
     "output_type": "stream",
     "text": [
      "[[ 98 428 286 389  49]\n",
      " [206   5 298  80 234]\n",
      " [ 33 298 312  73 297]\n",
      " [240 406 370 466 329]\n",
      " [431 140 463 292 122]\n",
      " [ 56 311 169 482  90]]\n",
      "[[312  73 297]\n",
      " [370 466 329]\n",
      " [463 292 122]\n",
      " [169 482  90]]\n",
      "[[370 466]\n",
      " [463 292]]\n",
      "<class 'numpy.ndarray'>\n",
      "[0 0]\n",
      "[10 20 30 40  0  0]\n"
     ]
    }
   ],
   "source": [
    "import numpy as np\n",
    "\n",
    "np.random.seed(134567)\n",
    "randno = np.random.randint(1,500,30).reshape(6,5)\n",
    "print(randno)\n",
    "print(randno[2:,2:])\n",
    "print(randno[3:5,2:4])\n",
    "\n"
   ]
  },
  {
   "cell_type": "markdown",
   "metadata": {},
   "source": [
    "### **Slicing in ndarray**"
   ]
  },
  {
   "cell_type": "code",
   "execution_count": 96,
   "metadata": {},
   "outputs": [
    {
     "name": "stdout",
     "output_type": "stream",
     "text": [
      "sliced array :  [50 60  1  2  3]\n",
      "Array:  [10 20 30 40 50 60  1  2  3  4  9 33]\n",
      "Type of Sliced Array:  <class 'numpy.ndarray'>\n",
      "Type of Array:  <class 'numpy.ndarray'>\n",
      "New Slicing:  [0 0 0 0 0]\n",
      "formatted Array :  [10 20 30 40  0  0  0  0  0  4  9 33]\n"
     ]
    }
   ],
   "source": [
    "arr = np.array([10,20,30,40,50,60,1,2,3,4,9,33,])\n",
    "slicing = arr[4:9]\n",
    "print(\"sliced array : \",slicing)\n",
    "print(\"Array: \",arr)\n",
    "print(\"Type of Sliced Array: \",type(slicing))\n",
    "print(\"Type of Array: \",type(arr))\n",
    "slicing[:] = 0\n",
    "print(\"New Slicing: \",slicing)\n",
    "print(\"formatted Array : \",arr)"
   ]
  }
 ],
 "metadata": {
  "kernelspec": {
   "display_name": "Python 3",
   "language": "python",
   "name": "python3"
  },
  "language_info": {
   "codemirror_mode": {
    "name": "ipython",
    "version": 3
   },
   "file_extension": ".py",
   "mimetype": "text/x-python",
   "name": "python",
   "nbconvert_exporter": "python",
   "pygments_lexer": "ipython3",
   "version": "3.12.4"
  }
 },
 "nbformat": 4,
 "nbformat_minor": 2
}
