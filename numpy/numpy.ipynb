{
 "cells": [
  {
   "cell_type": "markdown",
   "metadata": {},
   "source": [
    "## ***Numpy***<hr/>\n",
    "\n",
    "NumPy, which stands for **\"Numerical Python,\"** is a popular Python library for numerical and scientific computing. It provides support for working with large, multi-dimensional arrays and matrices of data, along with a collection of mathematical functions to operate on these arrays.\n",
    "\n",
    "NumPy is a fundamental library for data manipulation and analysis in Python and is widely used in various fields such as data science, machine learning, scientific research, and engineering."
   ]
  },
  {
   "cell_type": "markdown",
   "metadata": {},
   "source": [
    "### ***ndim***<hr/>\n",
    "\n",
    "it is used to get the dimension of the array"
   ]
  },
  {
   "cell_type": "code",
   "execution_count": 42,
   "metadata": {},
   "outputs": [
    {
     "name": "stdout",
     "output_type": "stream",
     "text": [
      "0\n",
      "1\n",
      "2\n",
      "42\n",
      "[1 2 3 4 5]\n",
      "[[1 2 3]\n",
      " [4 5 6]]\n"
     ]
    }
   ],
   "source": [
    "import numpy as ny\n",
    "\n",
    "a = ny.array(42)\n",
    "b = ny.array([1,2,3,4,5])\n",
    "c = ny.array([[1,2,3],[4,5,6]])\n",
    "\n",
    "print(a.ndim)\n",
    "print(b.ndim)\n",
    "print(c.ndim)\n",
    "\n",
    "print(a)\n",
    "print(b)\n",
    "print(c)\n"
   ]
  },
  {
   "cell_type": "markdown",
   "metadata": {},
   "source": [
    "### ***shape***<hr/>\n",
    "\n",
    "It is used to provide the dimensions of the array"
   ]
  },
  {
   "cell_type": "code",
   "execution_count": 43,
   "metadata": {},
   "outputs": [
    {
     "name": "stdout",
     "output_type": "stream",
     "text": [
      "()\n",
      "(5,)\n",
      "(2, 3)\n",
      "(2, 2, 3)\n"
     ]
    }
   ],
   "source": [
    "import numpy as ny\n",
    "\n",
    "a = ny.array(42)\n",
    "b = ny.array([1,2,3,4,5])\n",
    "c = ny.array([[1,2,3],[4,5,6]])\n",
    "d = ny.array([[[1,2,3],[4,5,6]],[[7,8,9],[10,11,12]]])\n",
    "\n",
    "print(a.shape)\n",
    "print(b.shape)\n",
    "print(c.shape)\n",
    "print(d.shape)\n"
   ]
  },
  {
   "cell_type": "code",
   "execution_count": 44,
   "metadata": {},
   "outputs": [
    {
     "name": "stdout",
     "output_type": "stream",
     "text": [
      "[1 0 1]\n"
     ]
    }
   ],
   "source": [
    "import numpy as np\n",
    "\n",
    "arr = np.array([True,False,True],dtype = np.int32)\n",
    "print(arr)"
   ]
  },
  {
   "cell_type": "code",
   "execution_count": 45,
   "metadata": {},
   "outputs": [
    {
     "name": "stdout",
     "output_type": "stream",
     "text": [
      "[ True  True  True]\n"
     ]
    }
   ],
   "source": [
    "import numpy as np\n",
    "\n",
    "arr = np.array(['apple',1,2.3],dtype = np.bool_)\n",
    "print(arr)"
   ]
  },
  {
   "cell_type": "markdown",
   "metadata": {},
   "source": [
    "### ***copy and view***"
   ]
  },
  {
   "cell_type": "code",
   "execution_count": 46,
   "metadata": {},
   "outputs": [
    {
     "name": "stdout",
     "output_type": "stream",
     "text": [
      "Output using copy():  [10 20 30 40 50 60]\n",
      "Output using view():  [ 10  20  30 600  50  60]\n"
     ]
    }
   ],
   "source": [
    "import numpy as np\n",
    "arr = np.array([10,20,30,40,50,60])\n",
    "arr2 = arr[1:4].copy()\n",
    "arr3 = arr[2:5].view()\n",
    "arr2[1] = 100\n",
    "print(\"Output using copy(): \",arr)\n",
    "arr3[1] = 600\n",
    "print(\"Output using view(): \",arr)"
   ]
  },
  {
   "cell_type": "code",
   "execution_count": 47,
   "metadata": {},
   "outputs": [
    {
     "name": "stdout",
     "output_type": "stream",
     "text": [
      "[[9 9 9]\n",
      " [9 9 9]\n",
      " [9 9 9]\n",
      " [9 9 9]\n",
      " [9 9 9]] \n",
      "\n",
      " [[10 10 10]\n",
      " [10 10 10]\n",
      " [10 10 10]\n",
      " [10 10 10]\n",
      " [10 10 10]] \n",
      "\n",
      " [[1. 0. 0.]\n",
      " [0. 1. 0.]\n",
      " [0. 0. 1.]] \n",
      "\n",
      " [[ 7  0  0  0  0]\n",
      " [ 0 10  0  0  0]\n",
      " [ 0  0 12  0  0]\n",
      " [ 0  0  0 34  0]\n",
      " [ 0  0  0  0 56]] \n",
      "\n",
      " [5 4 4 5 7 3 6 4] \n",
      "\n",
      " [[0.58679698 0.71975423 0.25849809]\n",
      " [0.54620732 0.40730783 0.17698462]]\n"
     ]
    }
   ],
   "source": [
    "import numpy as np\n",
    "\n",
    "arr1 = np.zeros((5,3),dtype=np.int8)+9\n",
    "arr2 = np.ones((5,3),dtype=np.int8)+9\n",
    "arr3 = np.eye(3)\n",
    "arr4 = np.diag((7,10,12,34,56))\n",
    "rno = np.random.randint(0,10,8)\n",
    "r = np.random.rand(2,3)\n",
    "\n",
    "print(arr1,\"\\n\\n\",arr2,\"\\n\\n\",arr3,\"\\n\\n\",arr4,\"\\n\\n\",rno,\"\\n\\n\",r)"
   ]
  },
  {
   "cell_type": "markdown",
   "metadata": {},
   "source": [
    "### ***reshape()***"
   ]
  },
  {
   "cell_type": "code",
   "execution_count": 48,
   "metadata": {},
   "outputs": [
    {
     "name": "stdout",
     "output_type": "stream",
     "text": [
      "Array 1 :  [[10 20 30]\n",
      " [40 50 60]] \n",
      "\n",
      "Array 2 :  [[[10 20]]\n",
      "\n",
      " [[30 40]]\n",
      "\n",
      " [[50 60]]] \n",
      "\n",
      "Array 3 :  [[10 20 30]\n",
      " [40 50 60]]\n"
     ]
    }
   ],
   "source": [
    "import numpy as np\n",
    "\n",
    "arr = np.array([10,20,30,40,50,60])\n",
    "arr1 = arr.reshape(2,3)\n",
    "arr2 = arr.reshape(-1,1,2)\n",
    "arr3 = arr.reshape(2,-1)\n",
    "\n",
    "print(\"Array 1 : \",arr1,\"\\n\\nArray 2 : \",arr2,\"\\n\\nArray 3 : \",arr3)"
   ]
  },
  {
   "cell_type": "markdown",
   "metadata": {},
   "source": [
    "### ***random.seed()***"
   ]
  },
  {
   "cell_type": "code",
   "execution_count": 49,
   "metadata": {},
   "outputs": [
    {
     "name": "stdout",
     "output_type": "stream",
     "text": [
      "[[ 98 428 286 389  49]\n",
      " [206   5 298  80 234]\n",
      " [ 33 298 312  73 297]\n",
      " [240 406 370 466 329]\n",
      " [431 140 463 292 122]\n",
      " [ 56 311 169 482  90]]\n",
      "[[312  73 297]\n",
      " [370 466 329]\n",
      " [463 292 122]\n",
      " [169 482  90]]\n",
      "[[370 466]\n",
      " [463 292]]\n"
     ]
    }
   ],
   "source": [
    "import numpy as np\n",
    "\n",
    "np.random.seed(134567)\n",
    "randno = np.random.randint(1,500,30).reshape(6,5)\n",
    "print(randno)\n",
    "print(randno[2:,2:])\n",
    "print(randno[3:5,2:4])\n",
    "\n"
   ]
  },
  {
   "cell_type": "markdown",
   "metadata": {},
   "source": [
    "### ***Slicing in ndarray***"
   ]
  },
  {
   "cell_type": "code",
   "execution_count": 50,
   "metadata": {},
   "outputs": [
    {
     "name": "stdout",
     "output_type": "stream",
     "text": [
      "sliced array :  [50 60  1  2  3]\n",
      "Array:  [10 20 30 40 50 60  1  2  3  4  9 33]\n",
      "Type of Sliced Array:  <class 'numpy.ndarray'>\n",
      "Type of Array:  <class 'numpy.ndarray'>\n",
      "New Slicing:  [0 0 0 0 0]\n",
      "formatted Array :  [10 20 30 40  0  0  0  0  0  4  9 33]\n"
     ]
    }
   ],
   "source": [
    "arr = np.array([10,20,30,40,50,60,1,2,3,4,9,33,])\n",
    "slicing = arr[4:9]\n",
    "print(\"sliced array : \",slicing)\n",
    "print(\"Array: \",arr)\n",
    "print(\"Type of Sliced Array: \",type(slicing))\n",
    "print(\"Type of Array: \",type(arr))\n",
    "slicing[:] = 0\n",
    "print(\"New Slicing: \",slicing)\n",
    "print(\"formatted Array : \",arr)"
   ]
  },
  {
   "cell_type": "markdown",
   "metadata": {},
   "source": [
    "### ***Arithmetic operations on array***"
   ]
  },
  {
   "cell_type": "code",
   "execution_count": 51,
   "metadata": {},
   "outputs": [
    {
     "name": "stdout",
     "output_type": "stream",
     "text": [
      "All the Elements of array are :  1 2 3 4 5 6 7 8 9 10 11 12 13 14\n",
      "twice of each number :  2 4 6 8 10 12 14 16 18 20 22 24 26 28\n",
      "Square of each number :  1 4 9 16 25 36 49 64 81 100 121 144 169 196\n",
      "All the even numbers in the array :  2 4 6 8 10 12 14\n",
      "Odd numbers of the array :  1 3 5 7 9 11 13\n",
      "Numbers that are greater than 8 :  9 10 11 12 13 14\n",
      "final array :  1 0 3 0 5 0 7 0 9 0 11 0 13 0\n",
      "----------------------------------------------------------------------------------\n",
      "Minimum of the array :  10\n",
      "Maximum of the array :  82\n",
      "Argmin of the array :  0\n",
      "Argmax of the array :  6\n",
      "Square root of the numbers of array :  3.16, 4.47, 5.48, 5.00, 7.75, 8.37, 9.06\n",
      "Sine of each number of the array :  -0.54, 0.91, -0.99, -0.13, -0.30, 0.77, 0.31\n",
      "Cosine of each number of the array :  -0.84, 0.41, 0.15, 0.99, -0.95, 0.63, 0.95\n",
      "----------------------------------------------------------------------------------\n",
      "[[ 9 16 14]\n",
      " [ 9 12 19]\n",
      " [12  9  8]]\n",
      "\n",
      " 108\n",
      "\n",
      " [  9  25  39  48  60  79  91 100 108]\n",
      "\n",
      " 8\n",
      "\n",
      " 19\n",
      "----------------------------------------------------------------------------------\n",
      "\n",
      " [39 40 29]\n",
      "\n",
      " [9 9 8]\n",
      "\n",
      " [16 19 12]\n",
      "\n",
      " [[ 9 25 39]\n",
      " [ 9 21 40]\n",
      " [12 21 29]]\n"
     ]
    }
   ],
   "source": [
    "import numpy as np\n",
    "\n",
    "arr = np.arange(1,15)\n",
    "\n",
    "print(\"All the Elements of array are : \",*arr)\n",
    "print(\"twice of each number : \",*arr*2)\n",
    "print(\"Square of each number : \",*arr**2)\n",
    "\n",
    "print(\"All the even numbers in the array : \",*arr[arr%2 == 0])\n",
    "print(\"Odd numbers of the array : \",*arr[arr%2!=0])\n",
    "print(\"Numbers that are greater than 8 : \",*arr[arr>8])\n",
    "arr[arr%2==0]=0\n",
    "print(\"final array : \",*arr)\n",
    "print(\"----------------------------------------------------------------------------------\")\n",
    "\n",
    "nos = np.array([10,20,30,25,60,70,82])\n",
    "print(\"Minimum of the array : \",np.min(nos))\n",
    "print(\"Maximum of the array : \",np.max(nos))\n",
    "print(\"Argmin of the array : \",np.argmin(nos))\n",
    "print(\"Argmax of the array : \",np.argmax(nos))\n",
    "print(\"Square root of the numbers of array : \",\", \".join(f\"{x:.2f}\"for x in np.sqrt(nos)))\n",
    "print(\"Sine of each number of the array : \",\", \".join(f\"{y:.2f}\"for y in np.sin(nos)))\n",
    "print(\"Cosine of each number of the array : \",\", \".join(f\"{z:.2f}\"for z in np.cos(nos)))\n",
    "\n",
    "print(\"----------------------------------------------------------------------------------\")\n",
    "\n",
    "np.random.seed(2)\n",
    "mat = np.random.randint(1,21,9).reshape(3,3)\n",
    "print(mat) \n",
    "print(\"\\n\",np.sum(mat))\n",
    "print(\"\\n\",np.cumsum(mat))\n",
    "print(\"\\n\",np.min(mat))\n",
    "print(\"\\n\",np.max(mat))\n",
    "print(\"----------------------------------------------------------------------------------\")\n",
    "print(\"\\n\",np.sum(mat,axis=1))\n",
    "print(\"\\n\",np.min(mat,axis=1))\n",
    "print(\"\\n\",np.max(mat,axis=1))\n",
    "print(\"\\n\",np.cumsum(mat,axis=1))\n",
    "\n"
   ]
  },
  {
   "cell_type": "markdown",
   "metadata": {},
   "source": [
    "### ***self_defined funtion to perform cumsum***"
   ]
  },
  {
   "cell_type": "code",
   "execution_count": 10,
   "metadata": {},
   "outputs": [
    {
     "name": "stdout",
     "output_type": "stream",
     "text": [
      "original array : [[ 9 16 14]\n",
      " [ 9 12 19]\n",
      " [12  9  8]]\n",
      "Cumsum of the array :  [[ 9 25 39]\n",
      " [ 9 21 40]\n",
      " [12 21 29]]\n"
     ]
    }
   ],
   "source": [
    "import numpy as np\n",
    "\n",
    "np.random.seed(2)\n",
    "mat2 = np.random.randint(1,21,(3,3))\n",
    "print(\"original array :\",mat2)\n",
    "def allsum(arr):\n",
    "    cumsum_arr = 0\n",
    "    final_arr = []\n",
    "    for i in range(arr.shape[0]):\n",
    "        for j in range(arr.shape[0]):\n",
    "            cumsum_arr += arr[i][j]\n",
    "            final_arr.append(cumsum_arr)\n",
    "        cumsum_arr = 0\n",
    "    return np.array(final_arr)\n",
    "result = allsum(mat2).reshape(3,3)\n",
    "print(\"Cumsum of the array : \",result)\n",
    "\n"
   ]
  },
  {
   "cell_type": "markdown",
   "metadata": {},
   "source": [
    "### ***unique***"
   ]
  },
  {
   "cell_type": "code",
   "execution_count": 53,
   "metadata": {},
   "outputs": [
    {
     "name": "stdout",
     "output_type": "stream",
     "text": [
      "[ 9 16 14  9 12 19 12  9  8  3]\n",
      "(array([ 3,  8,  9, 12, 14, 16, 19]), array([9, 8, 0, 4, 2, 1, 5], dtype=int64), array([1, 1, 3, 2, 1, 1, 1], dtype=int64))\n"
     ]
    }
   ],
   "source": [
    "import numpy as np\n",
    "\n",
    "np.random.seed(2)\n",
    "arr = np.random.randint(1,20,10)\n",
    "\n",
    "print(arr)\n",
    "print(np.unique(arr,return_index=True,return_counts=True))"
   ]
  },
  {
   "cell_type": "markdown",
   "metadata": {},
   "source": [
    "### ***vstack***"
   ]
  },
  {
   "cell_type": "code",
   "execution_count": 54,
   "metadata": {},
   "outputs": [
    {
     "name": "stdout",
     "output_type": "stream",
     "text": [
      "Array 1 :  [10 20 30 40]\n",
      "Array 2 : [50 60 70 80]\n",
      "vstack of arrays :\n",
      " [[10 20 30 40]\n",
      " [50 60 70 80]]\n",
      "hstack of arrays :\n",
      " [10 20 30 40 50 60 70 80]\n",
      "---------------------------------------\n",
      "vstack of matrices :\n",
      " [[18 12 22]\n",
      " [16 27 21]\n",
      " [29 21  6]\n",
      " [37 33 36]\n",
      " [34 40 41]\n",
      " [49 37 36]]\n",
      "hstack of matrices :\n",
      " [[18 12 22 37 33 36]\n",
      " [16 27 21 34 40 41]\n",
      " [29 21  6 49 37 36]]\n"
     ]
    }
   ],
   "source": [
    "import numpy as np\n",
    "\n",
    "arr1 = np.array([10,20,30,40])\n",
    "arr2 = np.array([50,60,70,80])\n",
    "mat1 = np.random.randint(1,30,9).reshape(3,3)\n",
    "mat2 = np.random.randint(30,50,9).reshape(3,3)\n",
    "print(\"Array 1 : \",arr1)\n",
    "print(\"Array 2 :\",arr2)\n",
    "print(\"vstack of arrays :\\n\",np.vstack((arr1,arr2)))\n",
    "print(\"hstack of arrays :\\n\",np.hstack((arr1,arr2)))\n",
    "print(\"---------------------------------------\")\n",
    "print(\"vstack of matrices :\\n\",np.vstack((mat1,mat2)))\n",
    "print(\"hstack of matrices :\\n\",np.hstack((mat1,mat2)))\n"
   ]
  },
  {
   "cell_type": "markdown",
   "metadata": {},
   "source": [
    "### ***searchsorted()***"
   ]
  },
  {
   "cell_type": "code",
   "execution_count": 13,
   "metadata": {},
   "outputs": [
    {
     "name": "stdout",
     "output_type": "stream",
     "text": [
      "[41 16 73 23 44 83 76  8 35 50] \n",
      " 2\n"
     ]
    }
   ],
   "source": [
    "import numpy as np\n",
    "\n",
    "np.random.seed(2)\n",
    "arr = np.random.randint(1,100,10)\n",
    "ss = np.searchsorted(arr,30)\n",
    "print(f\"{arr} \\n {ss}\")"
   ]
  },
  {
   "cell_type": "markdown",
   "metadata": {},
   "source": [
    "### ***Transpose()***"
   ]
  },
  {
   "cell_type": "code",
   "execution_count": 9,
   "metadata": {},
   "outputs": [
    {
     "name": "stdout",
     "output_type": "stream",
     "text": [
      "[[ 1  2  3  4  5]\n",
      " [ 1  3 56  7  5]]\n",
      "[[ 1  1]\n",
      " [ 2  3]\n",
      " [ 3 56]\n",
      " [ 4  7]\n",
      " [ 5  5]]\n"
     ]
    }
   ],
   "source": [
    "import numpy as np\n",
    "\n",
    "arr = np.array([[1,2,3,4,5],[1,3,56,7,5]])\n",
    "print(\"Array is : \",arr)\n",
    "\n",
    "Np_Trans = np.transpose(arr)\n",
    "print(\"Transpose of array is: \",Np_Trans)"
   ]
  },
  {
   "cell_type": "markdown",
   "metadata": {},
   "source": [
    "### ***np.mean()***"
   ]
  },
  {
   "cell_type": "code",
   "execution_count": 24,
   "metadata": {},
   "outputs": [
    {
     "name": "stdout",
     "output_type": "stream",
     "text": [
      "Mean of array:  3.0\n"
     ]
    }
   ],
   "source": [
    "import numpy as np\n",
    "\n",
    "arr = np.array([1,2,3,4,5])\n",
    "\n",
    "Np_Mean = np.mean(arr)\n",
    "print(\"Mean of array: \",Np_Mean)"
   ]
  },
  {
   "cell_type": "markdown",
   "metadata": {},
   "source": [
    "### ***np.extract()***"
   ]
  },
  {
   "cell_type": "code",
   "execution_count": 20,
   "metadata": {},
   "outputs": [
    {
     "name": "stdout",
     "output_type": "stream",
     "text": [
      "[3 4 5]\n"
     ]
    }
   ],
   "source": [
    "import numpy as np\n",
    "\n",
    "arr = np.array([1,2,3,4,5])\n",
    "\n",
    "Np_extract = np.extract(arr>2,arr)\n",
    "print(Np_extract)"
   ]
  },
  {
   "cell_type": "markdown",
   "metadata": {},
   "source": [
    "### ***np.sort()***"
   ]
  },
  {
   "cell_type": "code",
   "execution_count": 21,
   "metadata": {},
   "outputs": [
    {
     "name": "stdout",
     "output_type": "stream",
     "text": [
      "Sorting in ascending order:  [0 1 2 3 4 6]\n",
      "Sorting in descending order:  [6 4 3 2 1 0]\n"
     ]
    }
   ],
   "source": [
    "import numpy as np\n",
    "\n",
    "arr= np.array([1,3,4,2,0,6])\n",
    "sorted = np.sort(arr)\n",
    "sorted_inverse = np.sort(arr)[::-1]\n",
    "print(\"Sorting in ascending order: \",sorted)\n",
    "print(\"Sorting in descending order: \",sorted_inverse)"
   ]
  },
  {
   "cell_type": "markdown",
   "metadata": {},
   "source": [
    "### ***np.split***"
   ]
  },
  {
   "cell_type": "code",
   "execution_count": 23,
   "metadata": {},
   "outputs": [
    {
     "name": "stdout",
     "output_type": "stream",
     "text": [
      "[ 1 23]\n",
      "[ 45 789]\n",
      "[23 56]\n"
     ]
    }
   ],
   "source": [
    "import numpy as np\n",
    "\n",
    "arr = np.array([1,23,45,789,23,56])\n",
    "\n",
    "sub_arrays = np.split(arr,3)\n",
    "for sub_array in sub_arrays:\n",
    "    print(sub_array)"
   ]
  }
 ],
 "metadata": {
  "kernelspec": {
   "display_name": "Python 3",
   "language": "python",
   "name": "python3"
  },
  "language_info": {
   "codemirror_mode": {
    "name": "ipython",
    "version": 3
   },
   "file_extension": ".py",
   "mimetype": "text/x-python",
   "name": "python",
   "nbconvert_exporter": "python",
   "pygments_lexer": "ipython3",
   "version": "3.12.4"
  }
 },
 "nbformat": 4,
 "nbformat_minor": 2
}
