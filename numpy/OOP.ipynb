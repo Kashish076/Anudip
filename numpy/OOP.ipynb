{
 "cells": [
  {
   "cell_type": "markdown",
   "metadata": {},
   "source": [
    "### OOP"
   ]
  },
  {
   "cell_type": "markdown",
   "metadata": {},
   "source": [
    "### Class"
   ]
  },
  {
   "cell_type": "code",
   "execution_count": 37,
   "metadata": {},
   "outputs": [
    {
     "name": "stdout",
     "output_type": "stream",
     "text": [
      "Show outside the class\n",
      "Study 8 hours\n"
     ]
    }
   ],
   "source": [
    "def show():\n",
    "    print(\"Show outside the class\")\n",
    "class Student:\n",
    "    def study(self):\n",
    "        show()\n",
    "        print(\"Study 8 hours\")\n",
    "    def show(s):\n",
    "        print(\"Show inside the class\")\n",
    "obj = Student()\n",
    "obj.study()"
   ]
  },
  {
   "cell_type": "markdown",
   "metadata": {},
   "source": [
    "### Inheritence"
   ]
  },
  {
   "cell_type": "markdown",
   "metadata": {},
   "source": [
    "### Single Inheritence"
   ]
  },
  {
   "cell_type": "code",
   "execution_count": 49,
   "metadata": {},
   "outputs": [
    {
     "name": "stdout",
     "output_type": "stream",
     "text": [
      "This is demo method\n"
     ]
    }
   ],
   "source": [
    "class A:\n",
    "    name = \"Anant\"\n",
    "    def show(self):\n",
    "        print(\"This is class A\")\n",
    "        \n",
    "class B(A):\n",
    "    def demo(self):\n",
    "        print(\"This is demo method\")\n",
    "        \n",
    "obj = B()\n",
    "obj.demo()"
   ]
  },
  {
   "cell_type": "markdown",
   "metadata": {},
   "source": [
    "### Multi-level Inheritence"
   ]
  },
  {
   "cell_type": "code",
   "execution_count": 64,
   "metadata": {},
   "outputs": [
    {
     "name": "stdout",
     "output_type": "stream",
     "text": [
      "This is demo method\n",
      "This is class A\n",
      "This is claas C\n"
     ]
    }
   ],
   "source": [
    "class A:\n",
    "    name = \"Anant\"\n",
    "    def show(self):\n",
    "        print(\"This is class A\")\n",
    "        \n",
    "class B(A):\n",
    "    def demo(self):\n",
    "        print(\"This is demo method\")\n",
    "\n",
    "class C(A):\n",
    "    def kill(self):\n",
    "        print(\"This is claas C\")\n",
    "        \n",
    "\n",
    "obj1 = B()\n",
    "obj1.demo()\n",
    "obj1.show()\n",
    "obj = C()\n",
    "obj.kill()"
   ]
  },
  {
   "cell_type": "markdown",
   "metadata": {},
   "source": [
    "### Multiple Inheritence"
   ]
  },
  {
   "cell_type": "code",
   "execution_count": 65,
   "metadata": {},
   "outputs": [
    {
     "name": "stdout",
     "output_type": "stream",
     "text": [
      "This is demo method\n",
      "This is class A\n"
     ]
    }
   ],
   "source": [
    "class A:\n",
    "    name = \"Anant\"\n",
    "    def show(self):\n",
    "        print(\"This is class A\")\n",
    "        \n",
    "class B:\n",
    "    def demo(self):\n",
    "        print(\"This is demo method\")\n",
    "\n",
    "class C(A,B):\n",
    "    pass\n",
    "\n",
    "obj = C()\n",
    "obj.demo()\n",
    "obj.show()"
   ]
  },
  {
   "cell_type": "markdown",
   "metadata": {},
   "source": [
    "### Hybrid Inheritence"
   ]
  },
  {
   "cell_type": "code",
   "execution_count": 67,
   "metadata": {},
   "outputs": [
    {
     "name": "stdout",
     "output_type": "stream",
     "text": [
      "This is demo method\n",
      "This is class A method\n"
     ]
    }
   ],
   "source": [
    "class A:\n",
    "    name = \"Anant\"\n",
    "    def show(self):\n",
    "        print(\"This is class A method\")\n",
    "        \n",
    "class B(A):\n",
    "    def demo(self):\n",
    "        print(\"This is demo method\")\n",
    "\n",
    "class C(A):\n",
    "    pass\n",
    "    \n",
    "class D(B,C):\n",
    "    def run(self):\n",
    "        print(\"This is class D method\")\n",
    "        \n",
    "obj = D()\n",
    "obj.demo()\n",
    "obj.show()"
   ]
  },
  {
   "cell_type": "markdown",
   "metadata": {},
   "source": [
    "### Polymorphism"
   ]
  },
  {
   "cell_type": "markdown",
   "metadata": {},
   "source": [
    "function overloading"
   ]
  },
  {
   "cell_type": "code",
   "execution_count": 72,
   "metadata": {},
   "outputs": [
    {
     "name": "stdout",
     "output_type": "stream",
     "text": [
      "id is  1001\n",
      "Name is  Sanjay\n",
      "Age is  24\n"
     ]
    }
   ],
   "source": [
    "def setData(name,age):\n",
    "    print(\"Name is \",name)\n",
    "    print(\"Age is \",age)\n",
    "    \n",
    "def setData(id,name,age):\n",
    "    print(\"id is \",id)\n",
    "    print(\"Name is \",name)\n",
    "    print(\"Age is \",age)\n",
    "    \n",
    "# setData(\"Sanjay\",24)   // Error(Python do not support function overloading)\n",
    "setData(1001,\"Sanjay\",24)"
   ]
  },
  {
   "cell_type": "markdown",
   "metadata": {},
   "source": [
    "Method overriding\n",
    "    Polymorphism lets us define methods in the child class that have the same name as the methods in the parent class. In inheritance, the child class inherits the methods from the parent class. However, it is possible to modify a method in a child class that it has inherited from the parent class. This is particularly useful in cases where the method inherited from the parent class doesn't quite fit the child class. In such cases, we re-implement the method in the child class. This process of re-implementing a method in the child class is known as Method Overriding."
   ]
  },
  {
   "cell_type": "code",
   "execution_count": 75,
   "metadata": {},
   "outputs": [
    {
     "name": "stdout",
     "output_type": "stream",
     "text": [
      "This is child house\n",
      "I can fly\n"
     ]
    }
   ],
   "source": [
    "#Example 1\n",
    "class parent:\n",
    "    def house(self):\n",
    "        print(\"This is parent house\")\n",
    "        \n",
    "class child(parent):\n",
    "    def show(self):\n",
    "        print(\"This is show method\")\n",
    "    \n",
    "    def house(Self):\n",
    "        print(\"This is child house\")\n",
    "        \n",
    "obj = child()\n",
    "obj.house()\n",
    "\n",
    "#Example 2\n",
    "class Bird:\n",
    "    def intro(self):\n",
    "        print(\"There are many type of birds\")\n",
    "    def flight(self):\n",
    "        print(\"Most of the birds can fly some can not\")\n",
    "\n",
    "class sparrow(Bird):\n",
    "    def flight(self):\n",
    "        print(\"I can fly\")\n",
    "        \n",
    "s = sparrow()\n",
    "s.flight()\n",
    "    "
   ]
  },
  {
   "cell_type": "markdown",
   "metadata": {},
   "source": [
    "### Encapsulation"
   ]
  },
  {
   "cell_type": "code",
   "execution_count": 1,
   "metadata": {},
   "outputs": [
    {
     "name": "stdout",
     "output_type": "stream",
     "text": [
      "Toyota\n",
      "Corolla\n",
      "Honda\n",
      "Civic\n"
     ]
    }
   ],
   "source": [
    "class Car:\n",
    "    def __init__(self, make, model):\n",
    "        self.__make = make  \n",
    "        self.__model = model\n",
    "\n",
    "    def get_make(self):\n",
    "        return self.__make\n",
    "    \n",
    "    def set_make(self, make):\n",
    "        self.__make = make\n",
    "\n",
    "    def get_model(self):\n",
    "        return self.__model\n",
    "\n",
    "    def set_model(self, model):\n",
    "        self.__model = model\n",
    "\n",
    "my_car = Car(\"Toyota\", \"Corolla\")\n",
    "\n",
    "print(my_car.get_make())\n",
    "print(my_car.get_model())\n",
    "\n",
    "my_car.set_make(\"Honda\")\n",
    "my_car.set_model(\"Civic\")\n",
    "\n",
    "print(my_car.get_make())\n",
    "print(my_car.get_model())\n"
   ]
  }
 ],
 "metadata": {
  "kernelspec": {
   "display_name": "Python 3",
   "language": "python",
   "name": "python3"
  },
  "language_info": {
   "codemirror_mode": {
    "name": "ipython",
    "version": 3
   },
   "file_extension": ".py",
   "mimetype": "text/x-python",
   "name": "python",
   "nbconvert_exporter": "python",
   "pygments_lexer": "ipython3",
   "version": "3.12.4"
  }
 },
 "nbformat": 4,
 "nbformat_minor": 2
}
