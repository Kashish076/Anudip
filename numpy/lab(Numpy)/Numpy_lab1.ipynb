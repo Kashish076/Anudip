{
 "cells": [
  {
   "cell_type": "markdown",
   "metadata": {},
   "source": [
    "### ***1. Convert the below list into numpy array then display the array***\n",
    "\n",
    "***input***\n",
    "    \n",
    "    my_list = [1,2,3,4,5]\n",
    "\n",
    "***Output***\n",
    "    \n",
    "    Numpy array: [1 2 3 4 5]"
   ]
  },
  {
   "cell_type": "code",
   "execution_count": 2,
   "metadata": {},
   "outputs": [
    {
     "name": "stdout",
     "output_type": "stream",
     "text": [
      "Numpy array:  [1 2 3 4 5]\n"
     ]
    }
   ],
   "source": [
    "# 1. Convert the below list into numpy array then display the array\n",
    "\n",
    "import numpy as np\n",
    "\n",
    "my_list = np.array([1,2,3,4,5])\n",
    "print(\"Numpy array: \",my_list)"
   ]
  },
  {
   "cell_type": "markdown",
   "metadata": {},
   "source": [
    "### ***2. Convert the below list into a numpy array then display the array then display the first and last index and then multiply each element by 2 and display the result***\n",
    "\n",
    "***input***\n",
    "\n",
    "    my_list = [1,2,3,4,5]\n",
    "\n",
    "***Output***\n",
    "\n",
    "    First element: 1\n",
    "\n",
    "    Last element: 5\n",
    "\n",
    "    Array after doubling each element:\n",
    "    [2 4 6 8 10]"
   ]
  },
  {
   "cell_type": "code",
   "execution_count": 3,
   "metadata": {},
   "outputs": [
    {
     "name": "stdout",
     "output_type": "stream",
     "text": [
      "First element:  1\n",
      "Last element:  5\n",
      "Array after doubling each element:\n",
      " [ 2  4  6  8 10]\n"
     ]
    }
   ],
   "source": [
    "# 2. Convert the below list into a numpy array then display the array then display the first and last index and then multiply each element by 2 and display the result\n",
    "\n",
    "import numpy as np\n",
    "\n",
    "my_list = np.array([1,2,3,4,5])\n",
    "print(\"First element: \",my_list[0])\n",
    "print(\"Last element: \",my_list[len(my_list)-1])\n",
    "print(\"Array after doubling each element:\\n\",my_list*2)"
   ]
  },
  {
   "cell_type": "markdown",
   "metadata": {},
   "source": [
    "### ***3. Write a NumPy program to create an array of 10 zeros, 10 ones, and 10 fives***\n",
    "\n",
    "***Sample Output***\n",
    "\n",
    "    An array of 10 zeros\n",
    "    [0 0 0 0 0 0 0 0 0 0]\n",
    "\n",
    "    An array of 10 ones \n",
    "    [1 1 1 1 1 1 1 1 1 1] \n",
    "\n",
    "    An array of 10 fives\n",
    "    [5 5 5 5 5 5 5 5 5 5]"
   ]
  },
  {
   "cell_type": "code",
   "execution_count": 4,
   "metadata": {},
   "outputs": [
    {
     "name": "stdout",
     "output_type": "stream",
     "text": [
      "An array of 10 zeros\n",
      " [0 0 0 0 0 0 0 0 0 0]\n",
      "An array of 10 ones\n",
      " [1 1 1 1 1 1 1 1 1 1]\n",
      "An array of 10 fives\n",
      " [5 5 5 5 5 5 5 5 5 5]\n"
     ]
    }
   ],
   "source": [
    "# 3. Write a NumPy program to create an array of 10 zeros, 10 ones, and 10 fives\n",
    "\n",
    "import numpy as np\n",
    "\n",
    "arr = np.zeros((10),dtype = np.int8)\n",
    "print(\"An array of 10 zeros\\n\",arr)\n",
    "arr2 = np.zeros((10),dtype = np.int8)+1\n",
    "print(\"An array of 10 ones\\n\",arr2)\n",
    "arr3 = np.zeros((10),dtype = np.int8)+5\n",
    "print(\"An array of 10 fives\\n\",arr3)"
   ]
  },
  {
   "cell_type": "markdown",
   "metadata": {},
   "source": [
    "### ***4. . Winte a NumPy program to create a 3x3 matrix with values ranging from 2 to 10.***\n",
    "\n",
    "***Sample Output***\n",
    "\n",
    "    [[2 9 7]\n",
    "    [2 8 5]\n",
    "    [4 5 2]]"
   ]
  },
  {
   "cell_type": "code",
   "execution_count": 5,
   "metadata": {},
   "outputs": [
    {
     "name": "stdout",
     "output_type": "stream",
     "text": [
      "[[2 9 7]\n",
      " [2 8 5]\n",
      " [4 5 2]]\n"
     ]
    }
   ],
   "source": [
    "# 4. . Winte a NumPy program to create a 3x3 matrix with values ranging from 2 to 10.\n",
    "\n",
    "import numpy as np\n",
    "\n",
    "np.random.seed(2)\n",
    "arr = np.random.randint(2,10,(3,3))\n",
    "print(arr)"
   ]
  }
 ],
 "metadata": {
  "kernelspec": {
   "display_name": "Python 3",
   "language": "python",
   "name": "python3"
  },
  "language_info": {
   "codemirror_mode": {
    "name": "ipython",
    "version": 3
   },
   "file_extension": ".py",
   "mimetype": "text/x-python",
   "name": "python",
   "nbconvert_exporter": "python",
   "pygments_lexer": "ipython3",
   "version": "3.12.4"
  }
 },
 "nbformat": 4,
 "nbformat_minor": 2
}
