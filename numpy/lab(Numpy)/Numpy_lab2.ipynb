{
 "cells": [
  {
   "cell_type": "markdown",
   "metadata": {},
   "source": [
    "***1. Suppose you have a dataset containing daily temperature readings for a city, and you want to identify days with extreme temperature conditions. Find days where the temperature either exceeded 35 degrees Celsius (hot day) or dropped below 5 degrees Celsius (cold day).***"
   ]
  },
  {
   "cell_type": "code",
   "execution_count": 109,
   "metadata": {},
   "outputs": [
    {
     "name": "stdout",
     "output_type": "stream",
     "text": [
      "Hot Days:\n",
      "Day       temperatur(°C)\n",
      "3         36.8\n",
      "6         38.7\n",
      "10         37.2\n",
      "\n",
      "Cold Days:\n",
      "Day       temperatur(°C)\n",
      "11         4.0\n",
      "14         -4.0\n",
      "15         -12.0\n"
     ]
    }
   ],
   "source": [
    "import numpy as np\n",
    "\n",
    "temp = np.array([32.5, 34.2, 36.8, 29.3, 31.0, 38.7, 23.1, 18.5, 22.8, 37.2, 4.0, 27.2, 24.0, -4.0, -12.0])\n",
    "print(\"Hot Days:\")\n",
    "header = f\"{'Day'.ljust(10)}{'temperatur(°C)'.rjust(5)}\"\n",
    "print(header)\n",
    "hot_days = np.where(temp>35)[0]\n",
    "for day in range(len(hot_days)):\n",
    "    print(f\"{hot_days[day]+1}         {temp[hot_days][day]}\")\n",
    "\n",
    "print(\"\\nCold Days:\")\n",
    "header2 = f\"{'Day'.ljust(10)}{'temperatur(°C)'.rjust(5)}\"\n",
    "print(header2)\n",
    "cold_days = np.where(temp<5)[0]\n",
    "for days in range(len(cold_days)):\n",
    "    print(f\"{cold_days[days]+1}         {temp[cold_days][days]}\")"
   ]
  },
  {
   "cell_type": "markdown",
   "metadata": {},
   "source": [
    "***2. Suppose you have a dataset containing monthly sales data for a company, and you want to split this data into quarterly reports for analysis and reporting purposes.***"
   ]
  },
  {
   "cell_type": "code",
   "execution_count": 110,
   "metadata": {},
   "outputs": [
    {
     "name": "stdout",
     "output_type": "stream",
     "text": [
      "Quarter 1 Sales (in thousands of dollars):\n",
      " [120 135 148]\n",
      "Quarter 2 Sales (in thousands of dollars):\n",
      " [165 180 155]\n",
      "Quarter 3 Sales (in thousands of dollars):\n",
      " [168 190 205]\n",
      "Quarter 4 Sales (in thousands of dollars):\n",
      " [198 210 225]\n"
     ]
    }
   ],
   "source": [
    "import numpy as np\n",
    "\n",
    "monthly_sales = np.array([120, 135, 148, 165, 180, 155, 168, 190, 205, 198, 210, 225])\n",
    "\n",
    "Quarter_Sale = np.split(monthly_sales,4)\n",
    "\n",
    "i = 1\n",
    "for sales in Quarter_Sale:\n",
    "        print(\"Quarter\",i,\"Sales (in thousands of dollars):\\n\",sales)\n",
    "        i+=1"
   ]
  },
  {
   "cell_type": "markdown",
   "metadata": {},
   "source": [
    "***3. Suppose you have a dataset containing customer data, and you want to split this data into two groups: one group for customers who made a purchase in the last 30 days and another group for customers who haven't made a purchase in the last 30 days.***"
   ]
  },
  {
   "cell_type": "code",
   "execution_count": 111,
   "metadata": {},
   "outputs": [
    {
     "name": "stdout",
     "output_type": "stream",
     "text": [
      "Active Customers (Last Purchase <= 30 days ago):\n",
      "[101 102 103 104 105]\n",
      "Inactive Customers (Last Purchase >30 days ago):\n",
      "[106 107 108 109 110]\n"
     ]
    }
   ],
   "source": [
    "import numpy as np\n",
    "\n",
    "customer_ids = np.array([101, 102, 103, 104, 105, 106, 107, 108, 109, 110])\n",
    "last_purchase_days_ago = np.array([5, 15, 20, 25, 30, 35, 40, 45, 50, 55])\n",
    "\n",
    "act_mask = last_purchase_days_ago<=30\n",
    "act_cust = customer_ids[act_mask]\n",
    "inact_cust = customer_ids[~act_mask]\n",
    "\n",
    "print(f\"Active Customers (Last Purchase <= 30 days ago):\\n{act_cust}\")\n",
    "print(f\"Inactive Customers (Last Purchase >30 days ago):\\n{inact_cust}\")"
   ]
  },
  {
   "cell_type": "markdown",
   "metadata": {},
   "source": [
    "***4. Suppose you have two sets of employee data—one containing information about full-time employees and another containing information about part-time employees. You want to combine this data to create a comprehensive employee dataset for HR analysis.***\n"
   ]
  },
  {
   "cell_type": "code",
   "execution_count": 112,
   "metadata": {},
   "outputs": [
    {
     "name": "stdout",
     "output_type": "stream",
     "text": [
      "Combined Employee Data:\n",
      "Employee ID: 101, Name: John Doe, Type: Full-Time, Salary: 55000\n",
      "Employee ID: 102, Name: Jane Smith, Type: Full-Time, Salary: 60000\n",
      "Employee ID: 103, Name: Mike Johnson, Type: Full-Time, Salary: 52000\n",
      "Employee ID: 201, Name: Alice Brown, Type: Part-Time, Salary: 25000\n",
      "Employee ID: 202, Name: Bob Wilson, Type: Part-Time, Salary: 28000\n",
      "Employee ID: 203, Name: Emily Davis, Type: Part-Time, Salary: 22000\n"
     ]
    }
   ],
   "source": [
    "import numpy as np\n",
    "\n",
    "full_time_employees = np.array([[101, 'John Doe', 'Full-Time', 55000],\n",
    "    [102, 'Jane Smith', 'Full-Time', 60000],\n",
    "    [103, 'Mike Johnson', 'Full-Time', 52000]])\n",
    "\n",
    "part_time_employees = np.array([[201, 'Alice Brown', 'Part-Time', 25000],\n",
    "    [202, 'Bob Wilson', 'Part-Time', 28000],\n",
    "    [203, 'Emily Davis', 'Part-Time', 22000]])\n",
    "\n",
    "combined_data = np.vstack((full_time_employees, part_time_employees))\n",
    "\n",
    "print(\"Combined Employee Data:\")\n",
    "for data in combined_data:\n",
    "    print(f\"Employee ID: {data[0]}, Name: {data[1]}, Type: {data[2]}, Salary: {data[3]}\")"
   ]
  },
  {
   "cell_type": "markdown",
   "metadata": {},
   "source": [
    "***5. How to find the mean of every NumPy array in the given list?***\n",
    "\n",
    "***Input:***\n",
    "    \n",
    "    list = [\n",
    "        np.array([3, 2, 8, 9]),\n",
    "        np.array([4, 12, 34, 25, 78]),\n",
    "        np.array([23, 12, 67])\n",
    "    ]"
   ]
  },
  {
   "cell_type": "code",
   "execution_count": 113,
   "metadata": {},
   "outputs": [
    {
     "name": "stdout",
     "output_type": "stream",
     "text": [
      "Mean of Each array\n",
      " [5.5, 30.6, 34.0]\n"
     ]
    }
   ],
   "source": [
    "import numpy as np \n",
    "\n",
    "list = [\n",
    "        np.array([3, 2, 8, 9]),\n",
    "        np.array([4, 12, 34, 25, 78]),\n",
    "        np.array([23, 12, 67])\n",
    "    ]\n",
    "final =[]\n",
    "for i in list:\n",
    "        mean_each = np.mean(i)\n",
    "        final.append(mean_each)\n",
    "print(\"Mean of Each array\\n\",final)"
   ]
  },
  {
   "cell_type": "markdown",
   "metadata": {},
   "source": [
    "***6. Compute the median of the flattened NumPy array***\n",
    "\n",
    "***Input:***\n",
    "    \n",
    "    x_odd = np.array([1, 2, 3, 4, 5, 6, 7])"
   ]
  },
  {
   "cell_type": "code",
   "execution_count": 114,
   "metadata": {},
   "outputs": [
    {
     "name": "stdout",
     "output_type": "stream",
     "text": [
      "Printing the Original array:\n",
      " [1 2 3 4 5 6 7]\n",
      "Median of the array that contains odd no of elements:\n",
      " 4.0\n"
     ]
    }
   ],
   "source": [
    "import numpy as np\n",
    "\n",
    "x_odd = np.array([1, 2, 3, 4, 5, 6, 7])\n",
    "print(\"Printing the Original array:\\n\",x_odd)\n",
    "\n",
    "x_med = np.median(x_odd)\n",
    "print(\"Median of the array that contains odd no of elements:\\n\",x_med)"
   ]
  },
  {
   "cell_type": "markdown",
   "metadata": {},
   "source": [
    "***3.Compute the standard deviation of the NumPy array***\n",
    "\n",
    "***Input:***\n",
    "\n",
    "    arr = [20, 2, 7, 1, 34]"
   ]
  },
  {
   "cell_type": "code",
   "execution_count": 115,
   "metadata": {},
   "outputs": [
    {
     "name": "stdout",
     "output_type": "stream",
     "text": [
      "arr :  [20, 2, 7, 1, 34]\n",
      "Std of arr :  12.576167937809991\n",
      "\n",
      "More precision with float32\n",
      "Std of arr :  12.576168\n",
      "\n",
      "More accuracy with float64\n",
      "Std of arr :  12.576167937809991\n"
     ]
    }
   ],
   "source": [
    "import numpy as np\n",
    "\n",
    "arr = [20, 2, 7, 1, 34]\n",
    "print(\"arr : \", (arr))\n",
    "arr_stand1 = np.std(arr)\n",
    "print(\"Std of arr : \",arr_stand1)\n",
    "arr_stand2 = np.std((arr),dtype = np.float32)\n",
    "print(\"\\nMore precision with float32\\nStd of arr : \",arr_stand2)\n",
    "arr_stand3 = np.std((arr),dtype = np.float64)\n",
    "print(\"\\nMore accuracy with float64\\nStd of arr : \",arr_stand3)\n"
   ]
  }
 ],
 "metadata": {
  "kernelspec": {
   "display_name": "Python 3",
   "language": "python",
   "name": "python3"
  },
  "language_info": {
   "codemirror_mode": {
    "name": "ipython",
    "version": 3
   },
   "file_extension": ".py",
   "mimetype": "text/x-python",
   "name": "python",
   "nbconvert_exporter": "python",
   "pygments_lexer": "ipython3",
   "version": "3.12.4"
  }
 },
 "nbformat": 4,
 "nbformat_minor": 2
}
