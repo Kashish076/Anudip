{
 "cells": [
  {
   "cell_type": "markdown",
   "metadata": {},
   "source": [
    "### 1. Write a function to read the content from a text file \"ABC.txt\" line by line and display the same on screen. "
   ]
  },
  {
   "cell_type": "code",
   "execution_count": 134,
   "metadata": {},
   "outputs": [
    {
     "name": "stdout",
     "output_type": "stream",
     "text": [
      "In the heart of the bustling city, a Serene park offers a welcome escape from the Urban clamor.\n",
      "Tall trees line the winding paths, their leaves whispering in the gentle breeze. \n",
      "Families stroll along, children laughing and playing in the open spaces.\n",
      "The park's vibrant flower beds add splashes of color to the greenery, while benches provide a perfect spot for relaxation.\n",
      "A small pond reflects the sky, attracting ducks and adding to the tranquil atmosphere.\n",
      "This oasis of nature, amidst the concrete, serves as a reminder of the calm that can be found in everyday life."
     ]
    }
   ],
   "source": [
    "def Read_line(filename):\n",
    "    with open (filename,'r') as file:\n",
    "        for line in file:\n",
    "            print(line,end= \"\")\n",
    "Read_line(\"ABC.txt\")"
   ]
  },
  {
   "cell_type": "markdown",
   "metadata": {},
   "source": [
    "### 2. Write a function to count and display the total number of words in a text file \"ABC.txt\"."
   ]
  },
  {
   "cell_type": "code",
   "execution_count": 135,
   "metadata": {},
   "outputs": [
    {
     "name": "stdout",
     "output_type": "stream",
     "text": [
      "Total number of words = 97\n"
     ]
    }
   ],
   "source": [
    "def Count_words(filename):\n",
    "    word_count = 0\n",
    "    with open (filename,'r') as file:\n",
    "        for line in file:\n",
    "            words = line.split()\n",
    "            word_count += len(words)\n",
    "        print(f\"Total number of words = {word_count}\")\n",
    "Count_words(\"ABC.txt\")"
   ]
  },
  {
   "cell_type": "markdown",
   "metadata": {},
   "source": [
    "### 3. Write a function to count uppercase character in a text file \"ABC.txt\"."
   ]
  },
  {
   "cell_type": "code",
   "execution_count": 145,
   "metadata": {},
   "outputs": [
    {
     "name": "stdout",
     "output_type": "stream",
     "text": [
      "Total Uppercase characters are : 8\n"
     ]
    }
   ],
   "source": [
    "def Count_Upper(filename):\n",
    "    count = 0\n",
    "    with open(filename,'r') as file:\n",
    "        for line in file:\n",
    "            words = line.split()\n",
    "            for word in words:\n",
    "                for char in word:\n",
    "                    if(char.isupper()):\n",
    "                        count += 1\n",
    "    print(f\"Total Uppercase characters are : {count}\")\n",
    "Count_Upper(\"ABC.txt\")"
   ]
  },
  {
   "cell_type": "markdown",
   "metadata": {},
   "source": [
    "### 4. Write a function display_words() to read lines from a text file \"story.txt\", and display those words, which are less than 4 characters."
   ]
  },
  {
   "cell_type": "code",
   "execution_count": 137,
   "metadata": {},
   "outputs": [
    {
     "name": "stdout",
     "output_type": "stream",
     "text": [
      "In, the, of, She, was, an, and, her, Her, was, of, and, a, She, for, She, of, a, she, out, her, She, for, One, the, sun, set, in, to, She, and, The, She, a, The, The, was, Art, the, a, An, man, in, the, His, was, his, He, as, He, her, She, her, and, and, led, her, to, a, An, on, an, \n",
      "There are '62' words with less  than 4 characters\n"
     ]
    }
   ],
   "source": [
    "def display_words(filename):\n",
    "    count = 0\n",
    "    with open (filename,'r') as file:\n",
    "        for line in file:\n",
    "            words = line.split()\n",
    "            for word in words:\n",
    "                if len(word)<4:\n",
    "                    print(word, end = \", \")\n",
    "                    count += 1\n",
    "        print(f\"\\nThere are '{count}' words with less  than 4 characters\")\n",
    "display_words(\"story.txt\")"
   ]
  },
  {
   "cell_type": "markdown",
   "metadata": {},
   "source": [
    "### 5. Write a program to count the occurrence of word \"INDIA\" in a text file."
   ]
  },
  {
   "cell_type": "code",
   "execution_count": 138,
   "metadata": {},
   "outputs": [
    {
     "name": "stdout",
     "output_type": "stream",
     "text": [
      "India has occured '11' times\n"
     ]
    }
   ],
   "source": [
    "search = \"india\"\n",
    "count = 0\n",
    "with open (\"India.txt\",'r') as file:\n",
    "    for line in file:\n",
    "        lower_case = line.lower()\n",
    "        words = lower_case.split()\n",
    "        count += words.count(search)\n",
    "print(f\"India has occured '{count}' times\")\n",
    "    "
   ]
  },
  {
   "cell_type": "markdown",
   "metadata": {},
   "source": [
    "### 6. To count and display the lines starting with \"T\" in a text file"
   ]
  },
  {
   "cell_type": "code",
   "execution_count": 139,
   "metadata": {},
   "outputs": [
    {
     "name": "stdout",
     "output_type": "stream",
     "text": [
      "The city's heartbeat pulsed around her.\n",
      "\n",
      "The sign read \"The Enchanted Canvas.\"\n",
      "\n",
      "The gallery was dimly lit.\n",
      "\n",
      "Lines with T are: '3'\n"
     ]
    }
   ],
   "source": [
    "count = 0\n",
    "with open (\"story.txt\",'r') as file:\n",
    "    for line in file:\n",
    "        if(line.startswith(\"T\")):\n",
    "            count += 1\n",
    "            print(line)\n",
    "print(f\"Lines with T are: '{count}'\")"
   ]
  },
  {
   "cell_type": "markdown",
   "metadata": {},
   "source": [
    "### 7. To count and display the number of words starting with \"i\""
   ]
  },
  {
   "cell_type": "code",
   "execution_count": 140,
   "metadata": {},
   "outputs": [
    {
     "name": "stdout",
     "output_type": "stream",
     "text": [
      "in\n",
      "in\n",
      "innocence.\n",
      "its\n",
      "it\n",
      "in\n",
      "words with i are: '6'\n"
     ]
    }
   ],
   "source": [
    "count = 0\n",
    "with open (\"word.txt\",'r') as file:\n",
    "    for line in file:\n",
    "        lower_case = line.lower()\n",
    "        words = lower_case.split()\n",
    "        for word in words:\n",
    "            if(word.startswith('i')):\n",
    "                count += 1\n",
    "                print(word)\n",
    "print(f\"words with i are: '{count}'\")"
   ]
  },
  {
   "cell_type": "markdown",
   "metadata": {},
   "source": [
    "### 8. To count the number of vowels and consonants in a file"
   ]
  },
  {
   "cell_type": "code",
   "execution_count": 141,
   "metadata": {},
   "outputs": [
    {
     "name": "stdout",
     "output_type": "stream",
     "text": [
      "Total number of consonants: '326'\n",
      "Total number of vowels: '190'\n"
     ]
    }
   ],
   "source": [
    "vowels = ['a','e','i','o','u']\n",
    "consonants = 0\n",
    "count = 0\n",
    "with open (\"word.txt\",'r') as file:\n",
    "    for line in file:\n",
    "        lower_case = line.lower()\n",
    "        words = lower_case.split()\n",
    "        for word in words:\n",
    "            for char in word:\n",
    "                if(char in vowels):\n",
    "                    count += 1\n",
    "                elif(char.isalpha()):\n",
    "                    consonants += 1\n",
    "print(f\"Total number of consonants: '{consonants}'\")\n",
    "print(f\"Total number of vowels: '{count}'\")"
   ]
  },
  {
   "cell_type": "markdown",
   "metadata": {},
   "source": [
    "### 9. To display the lines having more than 5 words in a text file Notes.txt"
   ]
  },
  {
   "cell_type": "code",
   "execution_count": 142,
   "metadata": {},
   "outputs": [
    {
     "name": "stdout",
     "output_type": "stream",
     "text": [
      "The movie last night was incredibly exciting and engaging.\n",
      "\n",
      "Her garden is full of colorful and fragrant flowers.\n",
      "\n",
      "I can't wait to see you again next week.\n",
      "\n",
      "The conference provided valuable insights into industry trends.\n",
      "\n",
      "We spent the afternoon exploring new hiking trails nearby.\n"
     ]
    }
   ],
   "source": [
    "with open (\"Notes.txt\",'r') as file:\n",
    "    for line in file:\n",
    "        words = line.split()\n",
    "        if len(words)>5:\n",
    "            print(line)"
   ]
  },
  {
   "cell_type": "markdown",
   "metadata": {},
   "source": [
    "### 10. Create a binary file and enter students rollno. , Name and Marks till the user wants"
   ]
  },
  {
   "cell_type": "code",
   "execution_count": 143,
   "metadata": {},
   "outputs": [
    {
     "name": "stdout",
     "output_type": "stream",
     "text": [
      "Student data has been written to the binary file.\n"
     ]
    }
   ],
   "source": [
    "import struct\n",
    "\n",
    "with open(\"Student.dat\", 'ab') as binfile:\n",
    "    while True:\n",
    "        roll_no = input(\"Enter roll number: \")\n",
    "        name = input(\"Enter name: \")\n",
    "        marks = input(\"Enter marks: \")\n",
    "        \n",
    "        roll_no = roll_no[:10] \n",
    "        name = name[:50] \n",
    "        \n",
    "        data = struct.pack('10s50sf', roll_no.encode('utf-8').ljust(10), name.encode('utf-8').ljust(50), float(marks))\n",
    "        \n",
    "        binfile.write(data)\n",
    "        \n",
    "        more = input(\"Do you want to add another student? (yes/no): \").strip().lower()\n",
    "        if more != 'yes':\n",
    "            break\n",
    "\n",
    "print(\"Student data has been written to the binary file.\")"
   ]
  },
  {
   "cell_type": "markdown",
   "metadata": {},
   "source": [
    "### 11. Read a binary file Student.dat and display the record of students having marks greater than 81"
   ]
  },
  {
   "cell_type": "code",
   "execution_count": 144,
   "metadata": {},
   "outputs": [
    {
     "name": "stdout",
     "output_type": "stream",
     "text": [
      "Roll No   Name             Marks\n",
      "--------------------------------\n",
      "101       Tulip            87.00\n",
      "103       lily             82.00\n",
      "104       Mary             83.00\n"
     ]
    }
   ],
   "source": [
    "import struct\n",
    "\n",
    "with open(\"Student.dat\", 'rb') as binfile:\n",
    "    header = f\"{'Roll No'.ljust(10)}{'Name'.ljust(12)}{'Marks'.rjust(10)}\"\n",
    "    print(header)\n",
    "    print('-' * len(header))\n",
    "    while True:\n",
    "        data = binfile.read(64)\n",
    "        if not data:\n",
    "            break\n",
    "        roll_no, name, marks = struct.unpack('10s50sf', data)\n",
    "        roll_no = roll_no.decode().strip()\n",
    "        name = name.decode().strip()\n",
    "        if marks > 81:\n",
    "            print(f\"{roll_no.ljust(10)}{name.ljust(12)}{marks:>{10}.2f}\")"
   ]
  }
 ],
 "metadata": {
  "kernelspec": {
   "display_name": "Python 3",
   "language": "python",
   "name": "python3"
  },
  "language_info": {
   "codemirror_mode": {
    "name": "ipython",
    "version": 3
   },
   "file_extension": ".py",
   "mimetype": "text/x-python",
   "name": "python",
   "nbconvert_exporter": "python",
   "pygments_lexer": "ipython3",
   "version": "3.12.4"
  }
 },
 "nbformat": 4,
 "nbformat_minor": 2
}
